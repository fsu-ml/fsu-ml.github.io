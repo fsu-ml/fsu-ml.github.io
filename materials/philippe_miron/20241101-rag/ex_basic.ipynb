{
 "cells": [
  {
   "cell_type": "code",
   "execution_count": 52,
   "metadata": {},
   "outputs": [],
   "source": [
    "import numpy as np\n",
    "\n",
    "from vector_store import (\n",
    "    VectorStore,\n",
    ")\n",
    "\n",
    "vs = VectorStore()"
   ]
  },
  {
   "cell_type": "code",
   "execution_count": 53,
   "metadata": {},
   "outputs": [],
   "source": [
    "# \"documents\"\n",
    "sentences = [\n",
    "    \"The Florida State Seminoles are having a terrible season\",\n",
    "    \"The Florida Gators football program represents the University of Florida\",\n",
    "    \"The Miami hurricanes are leading the ACC\",\n",
    "    \"Florida is home to eighteen college football teams.\",\n",
    "]"
   ]
  },
  {
   "cell_type": "code",
   "execution_count": null,
   "metadata": {},
   "outputs": [],
   "source": []
  },
  {
   "cell_type": "code",
   "execution_count": 54,
   "metadata": {},
   "outputs": [],
   "source": [
    "# simple (pretty bad) tokenization\n",
    "vocabulary = set()\n",
    "for sentence in sentences:\n",
    "    tokens = sentence.lower().split()\n",
    "    vocabulary.update(tokens)\n",
    "\n",
    "word_to_index = {word: i for i, word in enumerate(sorted(vocabulary))}"
   ]
  },
  {
   "cell_type": "code",
   "execution_count": 55,
   "metadata": {},
   "outputs": [
    {
     "data": {
      "text/plain": [
       "25"
      ]
     },
     "execution_count": 55,
     "metadata": {},
     "output_type": "execute_result"
    }
   ],
   "source": [
    "len(vocabulary)"
   ]
  },
  {
   "cell_type": "code",
   "execution_count": 56,
   "metadata": {},
   "outputs": [
    {
     "data": {
      "text/plain": [
       "{'a': 0,\n",
       " 'acc': 1,\n",
       " 'are': 2,\n",
       " 'college': 3,\n",
       " 'eighteen': 4,\n",
       " 'florida': 5,\n",
       " 'football': 6,\n",
       " 'gators': 7,\n",
       " 'having': 8,\n",
       " 'home': 9,\n",
       " 'hurricanes': 10,\n",
       " 'is': 11,\n",
       " 'leading': 12,\n",
       " 'miami': 13,\n",
       " 'of': 14,\n",
       " 'program': 15,\n",
       " 'represents': 16,\n",
       " 'season': 17,\n",
       " 'seminoles': 18,\n",
       " 'state': 19,\n",
       " 'teams.': 20,\n",
       " 'terrible': 21,\n",
       " 'the': 22,\n",
       " 'to': 23,\n",
       " 'university': 24}"
      ]
     },
     "execution_count": 56,
     "metadata": {},
     "output_type": "execute_result"
    }
   ],
   "source": [
    "word_to_index"
   ]
  },
  {
   "cell_type": "code",
   "execution_count": 57,
   "metadata": {},
   "outputs": [],
   "source": [
    "# vectorization\n",
    "sentence_vectors = {}\n",
    "for sentence in sentences:\n",
    "    tokens = sentence.lower().split()\n",
    "    vector = np.zeros(len(vocabulary))\n",
    "\n",
    "    # increment the count of the word in the vector\n",
    "    for token in tokens:\n",
    "        vector[word_to_index[token]] += 1\n",
    "    sentence_vectors[sentence] = vector\n",
    "\n",
    "# store in the vector store\n",
    "for sentence, vector in sentence_vectors.items():\n",
    "    vs.add_vector(sentence, vector)"
   ]
  },
  {
   "cell_type": "code",
   "execution_count": 58,
   "metadata": {},
   "outputs": [
    {
     "data": {
      "text/plain": [
       "array([1., 0., 1., 0., 0., 1., 0., 0., 1., 0., 0., 0., 0., 0., 0., 0., 0.,\n",
       "       1., 1., 1., 0., 1., 1., 0., 0.])"
      ]
     },
     "execution_count": 58,
     "metadata": {},
     "output_type": "execute_result"
    }
   ],
   "source": [
    "i = 0\n",
    "sentence_vectors[sentences[i]]"
   ]
  },
  {
   "cell_type": "code",
   "execution_count": 59,
   "metadata": {},
   "outputs": [],
   "source": [
    "# query vector\n",
    "query_sentence = \"How many college football teams are in Florida?\"\n",
    "\n",
    "query_vector = np.zeros(len(vocabulary))\n",
    "query_tokens = query_sentence.lower().split()\n",
    "\n",
    "for token in query_tokens:\n",
    "    if token in word_to_index:\n",
    "        query_vector[word_to_index[token]] += 1\n"
   ]
  },
  {
   "cell_type": "code",
   "execution_count": 60,
   "metadata": {},
   "outputs": [
    {
     "data": {
      "text/plain": [
       "array([0., 0., 1., 1., 0., 0., 1., 0., 0., 0., 0., 0., 0., 0., 0., 0., 0.,\n",
       "       0., 0., 0., 0., 0., 0., 0., 0.])"
      ]
     },
     "execution_count": 60,
     "metadata": {},
     "output_type": "execute_result"
    }
   ],
   "source": [
    "query_vector"
   ]
  },
  {
   "cell_type": "code",
   "execution_count": 61,
   "metadata": {},
   "outputs": [
    {
     "data": {
      "text/plain": [
       "[('Florida is home to eighteen college football teams.', 0.40824829046386296)]"
      ]
     },
     "execution_count": 61,
     "metadata": {},
     "output_type": "execute_result"
    }
   ],
   "source": [
    "vs.find_similar_vectors(query_vector, num_results=1)"
   ]
  }
 ],
 "metadata": {
  "kernelspec": {
   "display_name": ".venv",
   "language": "python",
   "name": "python3"
  },
  "language_info": {
   "codemirror_mode": {
    "name": "ipython",
    "version": 3
   },
   "file_extension": ".py",
   "mimetype": "text/x-python",
   "name": "python",
   "nbconvert_exporter": "python",
   "pygments_lexer": "ipython3",
   "version": "3.12.3"
  }
 },
 "nbformat": 4,
 "nbformat_minor": 2
}
