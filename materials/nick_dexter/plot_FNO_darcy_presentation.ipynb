{
  "cells": [
    {
      "cell_type": "markdown",
      "metadata": {
        "id": "qoGwaQaUaF3e"
      },
      "source": [
        "\n",
        "# Training a TFNO on Darcy-Flow\n",
        "\n",
        "In this example, we demonstrate how to use the small Darcy-Flow example we ship with the package\n",
        "to train a Tensorized Fourier-Neural Operator\n"
      ]
    },
    {
      "cell_type": "code",
      "source": [
        "#!pip install -U neuraloperator\n",
        "!pip install neuraloperator\n",
        "!pip install -U tensorly\n",
        "!pip install -U tensorly-torch\n",
        "!pip install -U wandb\n",
        "!pip install -U zarr"
      ],
      "metadata": {
        "colab": {
          "base_uri": "https://localhost:8080/"
        },
        "id": "oJaN-I0RaIL2",
        "outputId": "026a2a31-eb30-4af2-d3db-4e0a32fb32bc"
      },
      "execution_count": 1,
      "outputs": [
        {
          "output_type": "stream",
          "name": "stdout",
          "text": [
            "Collecting neuraloperator\n",
            "  Downloading neuraloperator-0.2.0-py3-none-any.whl (1.3 MB)\n",
            "\u001b[2K     \u001b[90m━━━━━━━━━━━━━━━━━━━━━━━━━━━━━━━━━━━━━━━━\u001b[0m \u001b[32m1.3/1.3 MB\u001b[0m \u001b[31m8.2 MB/s\u001b[0m eta \u001b[36m0:00:00\u001b[0m\n",
            "\u001b[?25hRequirement already satisfied: numpy in /usr/local/lib/python3.10/dist-packages (from neuraloperator) (1.23.5)\n",
            "Collecting configmypy (from neuraloperator)\n",
            "  Downloading configmypy-0.1.0-py3-none-any.whl (11 kB)\n",
            "Requirement already satisfied: pytest in /usr/local/lib/python3.10/dist-packages (from neuraloperator) (7.4.2)\n",
            "Collecting pytest-mock (from configmypy->neuraloperator)\n",
            "  Downloading pytest_mock-3.11.1-py3-none-any.whl (9.6 kB)\n",
            "Collecting ruamel.yaml (from configmypy->neuraloperator)\n",
            "  Downloading ruamel.yaml-0.17.35-py3-none-any.whl (112 kB)\n",
            "\u001b[2K     \u001b[90m━━━━━━━━━━━━━━━━━━━━━━━━━━━━━━━━━━━━━━━━\u001b[0m \u001b[32m112.9/112.9 kB\u001b[0m \u001b[31m8.6 MB/s\u001b[0m eta \u001b[36m0:00:00\u001b[0m\n",
            "\u001b[?25hRequirement already satisfied: iniconfig in /usr/local/lib/python3.10/dist-packages (from pytest->neuraloperator) (2.0.0)\n",
            "Requirement already satisfied: packaging in /usr/local/lib/python3.10/dist-packages (from pytest->neuraloperator) (23.2)\n",
            "Requirement already satisfied: pluggy<2.0,>=0.12 in /usr/local/lib/python3.10/dist-packages (from pytest->neuraloperator) (1.3.0)\n",
            "Requirement already satisfied: exceptiongroup>=1.0.0rc8 in /usr/local/lib/python3.10/dist-packages (from pytest->neuraloperator) (1.1.3)\n",
            "Requirement already satisfied: tomli>=1.0.0 in /usr/local/lib/python3.10/dist-packages (from pytest->neuraloperator) (2.0.1)\n",
            "Collecting ruamel.yaml.clib>=0.2.7 (from ruamel.yaml->configmypy->neuraloperator)\n",
            "  Downloading ruamel.yaml.clib-0.2.8-cp310-cp310-manylinux_2_17_x86_64.manylinux2014_x86_64.manylinux_2_24_x86_64.whl (526 kB)\n",
            "\u001b[2K     \u001b[90m━━━━━━━━━━━━━━━━━━━━━━━━━━━━━━━━━━━━━━━━\u001b[0m \u001b[32m526.7/526.7 kB\u001b[0m \u001b[31m11.9 MB/s\u001b[0m eta \u001b[36m0:00:00\u001b[0m\n",
            "\u001b[?25hInstalling collected packages: ruamel.yaml.clib, ruamel.yaml, pytest-mock, configmypy, neuraloperator\n",
            "Successfully installed configmypy-0.1.0 neuraloperator-0.2.0 pytest-mock-3.11.1 ruamel.yaml-0.17.35 ruamel.yaml.clib-0.2.8\n",
            "Collecting tensorly\n",
            "  Downloading tensorly-0.8.1-py3-none-any.whl (229 kB)\n",
            "\u001b[2K     \u001b[90m━━━━━━━━━━━━━━━━━━━━━━━━━━━━━━━━━━━━━━━━\u001b[0m \u001b[32m229.7/229.7 kB\u001b[0m \u001b[31m5.4 MB/s\u001b[0m eta \u001b[36m0:00:00\u001b[0m\n",
            "\u001b[?25hRequirement already satisfied: numpy in /usr/local/lib/python3.10/dist-packages (from tensorly) (1.23.5)\n",
            "Requirement already satisfied: scipy in /usr/local/lib/python3.10/dist-packages (from tensorly) (1.11.3)\n",
            "Installing collected packages: tensorly\n",
            "Successfully installed tensorly-0.8.1\n",
            "Collecting tensorly-torch\n",
            "  Downloading tensorly_torch-0.4.0-py3-none-any.whl (59 kB)\n",
            "\u001b[2K     \u001b[90m━━━━━━━━━━━━━━━━━━━━━━━━━━━━━━━━━━━━━━━━\u001b[0m \u001b[32m59.1/59.1 kB\u001b[0m \u001b[31m2.0 MB/s\u001b[0m eta \u001b[36m0:00:00\u001b[0m\n",
            "\u001b[?25hRequirement already satisfied: numpy in /usr/local/lib/python3.10/dist-packages (from tensorly-torch) (1.23.5)\n",
            "Requirement already satisfied: scipy in /usr/local/lib/python3.10/dist-packages (from tensorly-torch) (1.11.3)\n",
            "Collecting nose (from tensorly-torch)\n",
            "  Downloading nose-1.3.7-py3-none-any.whl (154 kB)\n",
            "\u001b[2K     \u001b[90m━━━━━━━━━━━━━━━━━━━━━━━━━━━━━━━━━━━━━━━━\u001b[0m \u001b[32m154.7/154.7 kB\u001b[0m \u001b[31m6.7 MB/s\u001b[0m eta \u001b[36m0:00:00\u001b[0m\n",
            "\u001b[?25hInstalling collected packages: nose, tensorly-torch\n",
            "Successfully installed nose-1.3.7 tensorly-torch-0.4.0\n",
            "Collecting wandb\n",
            "  Downloading wandb-0.15.12-py3-none-any.whl (2.1 MB)\n",
            "\u001b[2K     \u001b[90m━━━━━━━━━━━━━━━━━━━━━━━━━━━━━━━━━━━━━━━━\u001b[0m \u001b[32m2.1/2.1 MB\u001b[0m \u001b[31m9.4 MB/s\u001b[0m eta \u001b[36m0:00:00\u001b[0m\n",
            "\u001b[?25hRequirement already satisfied: Click!=8.0.0,>=7.1 in /usr/local/lib/python3.10/dist-packages (from wandb) (8.1.7)\n",
            "Collecting GitPython!=3.1.29,>=1.0.0 (from wandb)\n",
            "  Downloading GitPython-3.1.37-py3-none-any.whl (190 kB)\n",
            "\u001b[2K     \u001b[90m━━━━━━━━━━━━━━━━━━━━━━━━━━━━━━━━━━━━━━━━\u001b[0m \u001b[32m190.0/190.0 kB\u001b[0m \u001b[31m12.1 MB/s\u001b[0m eta \u001b[36m0:00:00\u001b[0m\n",
            "\u001b[?25hRequirement already satisfied: requests<3,>=2.0.0 in /usr/local/lib/python3.10/dist-packages (from wandb) (2.31.0)\n",
            "Requirement already satisfied: psutil>=5.0.0 in /usr/local/lib/python3.10/dist-packages (from wandb) (5.9.5)\n",
            "Collecting sentry-sdk>=1.0.0 (from wandb)\n",
            "  Downloading sentry_sdk-1.32.0-py2.py3-none-any.whl (240 kB)\n",
            "\u001b[2K     \u001b[90m━━━━━━━━━━━━━━━━━━━━━━━━━━━━━━━━━━━━━━━━\u001b[0m \u001b[32m241.0/241.0 kB\u001b[0m \u001b[31m13.7 MB/s\u001b[0m eta \u001b[36m0:00:00\u001b[0m\n",
            "\u001b[?25hCollecting docker-pycreds>=0.4.0 (from wandb)\n",
            "  Downloading docker_pycreds-0.4.0-py2.py3-none-any.whl (9.0 kB)\n",
            "Requirement already satisfied: PyYAML in /usr/local/lib/python3.10/dist-packages (from wandb) (6.0.1)\n",
            "Collecting pathtools (from wandb)\n",
            "  Downloading pathtools-0.1.2.tar.gz (11 kB)\n",
            "  Preparing metadata (setup.py) ... \u001b[?25l\u001b[?25hdone\n",
            "Collecting setproctitle (from wandb)\n",
            "  Downloading setproctitle-1.3.3-cp310-cp310-manylinux_2_5_x86_64.manylinux1_x86_64.manylinux_2_17_x86_64.manylinux2014_x86_64.whl (30 kB)\n",
            "Requirement already satisfied: setuptools in /usr/local/lib/python3.10/dist-packages (from wandb) (67.7.2)\n",
            "Requirement already satisfied: appdirs>=1.4.3 in /usr/local/lib/python3.10/dist-packages (from wandb) (1.4.4)\n",
            "Requirement already satisfied: protobuf!=4.21.0,<5,>=3.19.0 in /usr/local/lib/python3.10/dist-packages (from wandb) (3.20.3)\n",
            "Requirement already satisfied: six>=1.4.0 in /usr/local/lib/python3.10/dist-packages (from docker-pycreds>=0.4.0->wandb) (1.16.0)\n",
            "Collecting gitdb<5,>=4.0.1 (from GitPython!=3.1.29,>=1.0.0->wandb)\n",
            "  Downloading gitdb-4.0.10-py3-none-any.whl (62 kB)\n",
            "\u001b[2K     \u001b[90m━━━━━━━━━━━━━━━━━━━━━━━━━━━━━━━━━━━━━━━━\u001b[0m \u001b[32m62.7/62.7 kB\u001b[0m \u001b[31m8.4 MB/s\u001b[0m eta \u001b[36m0:00:00\u001b[0m\n",
            "\u001b[?25hRequirement already satisfied: charset-normalizer<4,>=2 in /usr/local/lib/python3.10/dist-packages (from requests<3,>=2.0.0->wandb) (3.3.0)\n",
            "Requirement already satisfied: idna<4,>=2.5 in /usr/local/lib/python3.10/dist-packages (from requests<3,>=2.0.0->wandb) (3.4)\n",
            "Requirement already satisfied: urllib3<3,>=1.21.1 in /usr/local/lib/python3.10/dist-packages (from requests<3,>=2.0.0->wandb) (2.0.6)\n",
            "Requirement already satisfied: certifi>=2017.4.17 in /usr/local/lib/python3.10/dist-packages (from requests<3,>=2.0.0->wandb) (2023.7.22)\n",
            "Collecting smmap<6,>=3.0.1 (from gitdb<5,>=4.0.1->GitPython!=3.1.29,>=1.0.0->wandb)\n",
            "  Downloading smmap-5.0.1-py3-none-any.whl (24 kB)\n",
            "Building wheels for collected packages: pathtools\n",
            "  Building wheel for pathtools (setup.py) ... \u001b[?25l\u001b[?25hdone\n",
            "  Created wheel for pathtools: filename=pathtools-0.1.2-py3-none-any.whl size=8791 sha256=7a1b5ce4c39a80ac0964f178b548e09689be2136d803763cb807c1980901a3d3\n",
            "  Stored in directory: /root/.cache/pip/wheels/e7/f3/22/152153d6eb222ee7a56ff8617d80ee5207207a8c00a7aab794\n",
            "Successfully built pathtools\n",
            "Installing collected packages: pathtools, smmap, setproctitle, sentry-sdk, docker-pycreds, gitdb, GitPython, wandb\n",
            "Successfully installed GitPython-3.1.37 docker-pycreds-0.4.0 gitdb-4.0.10 pathtools-0.1.2 sentry-sdk-1.32.0 setproctitle-1.3.3 smmap-5.0.1 wandb-0.15.12\n",
            "Collecting zarr\n",
            "  Downloading zarr-2.16.1-py3-none-any.whl (206 kB)\n",
            "\u001b[2K     \u001b[90m━━━━━━━━━━━━━━━━━━━━━━━━━━━━━━━━━━━━━━━━\u001b[0m \u001b[32m206.9/206.9 kB\u001b[0m \u001b[31m5.7 MB/s\u001b[0m eta \u001b[36m0:00:00\u001b[0m\n",
            "\u001b[?25hCollecting asciitree (from zarr)\n",
            "  Downloading asciitree-0.3.3.tar.gz (4.0 kB)\n",
            "  Preparing metadata (setup.py) ... \u001b[?25l\u001b[?25hdone\n",
            "Requirement already satisfied: numpy!=1.21.0,>=1.20 in /usr/local/lib/python3.10/dist-packages (from zarr) (1.23.5)\n",
            "Collecting fasteners (from zarr)\n",
            "  Downloading fasteners-0.19-py3-none-any.whl (18 kB)\n",
            "Collecting numcodecs>=0.10.0 (from zarr)\n",
            "  Downloading numcodecs-0.12.0-cp310-cp310-manylinux_2_17_x86_64.manylinux2014_x86_64.whl (7.7 MB)\n",
            "\u001b[2K     \u001b[90m━━━━━━━━━━━━━━━━━━━━━━━━━━━━━━━━━━━━━━━━\u001b[0m \u001b[32m7.7/7.7 MB\u001b[0m \u001b[31m33.9 MB/s\u001b[0m eta \u001b[36m0:00:00\u001b[0m\n",
            "\u001b[?25hBuilding wheels for collected packages: asciitree\n",
            "  Building wheel for asciitree (setup.py) ... \u001b[?25l\u001b[?25hdone\n",
            "  Created wheel for asciitree: filename=asciitree-0.3.3-py3-none-any.whl size=5034 sha256=485713509238af5607d84ab2e2536d5b63bc6cac956203c3a7f5b11cfd99fbed\n",
            "  Stored in directory: /root/.cache/pip/wheels/7f/4e/be/1171b40f43b918087657ec57cf3b81fa1a2e027d8755baa184\n",
            "Successfully built asciitree\n",
            "Installing collected packages: asciitree, numcodecs, fasteners, zarr\n",
            "Successfully installed asciitree-0.3.3 fasteners-0.19 numcodecs-0.12.0 zarr-2.16.1\n"
          ]
        }
      ]
    },
    {
      "cell_type": "code",
      "execution_count": 2,
      "metadata": {
        "id": "hmcWVVoAaF3f"
      },
      "outputs": [],
      "source": [
        "import torch\n",
        "import matplotlib.pyplot as plt\n",
        "import sys\n",
        "from neuralop.models import TFNO\n",
        "from neuralop import Trainer\n",
        "#from neuralop.training import OutputEncoderCallback\n",
        "from neuralop.datasets import load_darcy_flow_small\n",
        "from neuralop.utils import count_params\n",
        "from neuralop import LpLoss, H1Loss\n",
        "\n",
        "device = 'cuda'"
      ]
    },
    {
      "cell_type": "markdown",
      "metadata": {
        "id": "9nSF4O8daF3h"
      },
      "source": [
        "Loading the Navier-Stokes dataset in 128x128 resolution\n",
        "\n"
      ]
    },
    {
      "cell_type": "code",
      "execution_count": 3,
      "metadata": {
        "colab": {
          "base_uri": "https://localhost:8080/"
        },
        "id": "xcPwDVBsaF3h",
        "outputId": "60cea1ab-a6cb-4682-edc7-b18514d02f4e"
      },
      "outputs": [
        {
          "output_type": "stream",
          "name": "stdout",
          "text": [
            "UnitGaussianNormalizer init on 1000, reducing over [0, 1, 2, 3], samples of shape [1, 16, 16].\n",
            "   Mean and std of shape torch.Size([1, 1, 1]), eps=1e-05\n",
            "Loading test db at resolution 32 with 50 samples and batch-size=32\n"
          ]
        }
      ],
      "source": [
        "train_loader, test_loaders, output_encoder = load_darcy_flow_small(\n",
        "        n_train=1000, batch_size=32,\n",
        "        test_resolutions=[16, 32], n_tests=[100, 50],\n",
        "        test_batch_sizes=[32, 32],\n",
        ")"
      ]
    },
    {
      "cell_type": "markdown",
      "metadata": {
        "id": "GrxPzL-1aF3h"
      },
      "source": [
        "We create a tensorized FNO model\n",
        "\n"
      ]
    },
    {
      "cell_type": "code",
      "execution_count": 4,
      "metadata": {
        "colab": {
          "base_uri": "https://localhost:8080/"
        },
        "id": "HvzmZLBaaF3h",
        "outputId": "0afbafe5-bda5-4cd0-e123-1144f4489ba8"
      },
      "outputs": [
        {
          "output_type": "stream",
          "name": "stdout",
          "text": [
            "\n",
            "Our model has 393665 parameters.\n"
          ]
        }
      ],
      "source": [
        "model = TFNO(n_modes=(16, 16), hidden_channels=32, projection_channels=64, factorization='tucker', rank=0.42)\n",
        "model = model.to(device)\n",
        "\n",
        "n_params = count_params(model)\n",
        "print(f'\\nOur model has {n_params} parameters.')\n",
        "sys.stdout.flush()"
      ]
    },
    {
      "cell_type": "markdown",
      "metadata": {
        "id": "XSTmLK9naF3j"
      },
      "source": [
        "Create the optimizer\n",
        "\n"
      ]
    },
    {
      "cell_type": "code",
      "execution_count": 5,
      "metadata": {
        "id": "ZrYAjMQhaF3j"
      },
      "outputs": [],
      "source": [
        "optimizer = torch.optim.Adam(model.parameters(),\n",
        "                                lr=8e-3,\n",
        "                                weight_decay=1e-4)\n",
        "scheduler = torch.optim.lr_scheduler.CosineAnnealingLR(optimizer, T_max=30)"
      ]
    },
    {
      "cell_type": "markdown",
      "metadata": {
        "id": "Lwr1HlyiaF3j"
      },
      "source": [
        "Creating the losses\n",
        "\n"
      ]
    },
    {
      "cell_type": "code",
      "execution_count": 6,
      "metadata": {
        "id": "P1HCYvsoaF3j"
      },
      "outputs": [],
      "source": [
        "l2loss = LpLoss(d=2, p=2)\n",
        "h1loss = H1Loss(d=2)\n",
        "\n",
        "train_loss = h1loss\n",
        "eval_losses={'h1': h1loss, 'l2': l2loss}"
      ]
    },
    {
      "cell_type": "code",
      "execution_count": 7,
      "metadata": {
        "colab": {
          "base_uri": "https://localhost:8080/"
        },
        "id": "AoE3HoY6aF3k",
        "outputId": "d1acc94f-ed78-4010-ce2c-3755f06876bf"
      },
      "outputs": [
        {
          "output_type": "stream",
          "name": "stdout",
          "text": [
            "\n",
            "### MODEL ###\n",
            " TFNO(\n",
            "  (fno_blocks): FNOBlocks(\n",
            "    (convs): FactorizedSpectralConv(\n",
            "      (weight): ModuleList(\n",
            "        (0-7): 8 x ComplexTuckerTensor(shape=(32, 32, 8, 8), rank=(25, 25, 6, 6))\n",
            "      )\n",
            "    )\n",
            "    (fno_skips): ModuleList(\n",
            "      (0-3): 4 x Conv2d(32, 32, kernel_size=(1, 1), stride=(1, 1), bias=False)\n",
            "    )\n",
            "  )\n",
            "  (lifting): Lifting(\n",
            "    (fc): Conv2d(3, 32, kernel_size=(1, 1), stride=(1, 1))\n",
            "  )\n",
            "  (projection): Projection(\n",
            "    (fc1): Conv2d(32, 64, kernel_size=(1, 1), stride=(1, 1))\n",
            "    (fc2): Conv2d(64, 1, kernel_size=(1, 1), stride=(1, 1))\n",
            "  )\n",
            ")\n",
            "\n",
            "### OPTIMIZER ###\n",
            " Adam (\n",
            "Parameter Group 0\n",
            "    amsgrad: False\n",
            "    betas: (0.9, 0.999)\n",
            "    capturable: False\n",
            "    differentiable: False\n",
            "    eps: 1e-08\n",
            "    foreach: None\n",
            "    fused: None\n",
            "    initial_lr: 0.008\n",
            "    lr: 0.008\n",
            "    maximize: False\n",
            "    weight_decay: 0.0001\n",
            ")\n",
            "\n",
            "### SCHEDULER ###\n",
            " <torch.optim.lr_scheduler.CosineAnnealingLR object at 0x7d92e4cd5990>\n",
            "\n",
            "### LOSSES ###\n",
            "\n",
            " * Train: <neuralop.training.losses.H1Loss object at 0x7d92e4cd53f0>\n",
            "\n",
            " * Test: {'h1': <neuralop.training.losses.H1Loss object at 0x7d92e4cd53f0>, 'l2': <neuralop.training.losses.LpLoss object at 0x7d92e4cd5570>}\n"
          ]
        }
      ],
      "source": [
        "print('\\n### MODEL ###\\n', model)\n",
        "print('\\n### OPTIMIZER ###\\n', optimizer)\n",
        "print('\\n### SCHEDULER ###\\n', scheduler)\n",
        "print('\\n### LOSSES ###')\n",
        "print(f'\\n * Train: {train_loss}')\n",
        "print(f'\\n * Test: {eval_losses}')\n",
        "sys.stdout.flush()"
      ]
    },
    {
      "cell_type": "markdown",
      "metadata": {
        "id": "sSuRiNr6aF3l"
      },
      "source": [
        "Create the trainer\n",
        "\n"
      ]
    },
    {
      "cell_type": "code",
      "execution_count": 8,
      "metadata": {
        "colab": {
          "base_uri": "https://localhost:8080/"
        },
        "id": "HylG9SfCaF3l",
        "outputId": "6cb1a205-aad5-4318-b7c8-1b5533d84473"
      },
      "outputs": [
        {
          "output_type": "stream",
          "name": "stdout",
          "text": [
            "Training on regular inputs (no multi-grid patching).\n"
          ]
        }
      ],
      "source": [
        "trainer = Trainer(model=model, n_epochs=20,\n",
        "                  device=device,\n",
        "                  wandb_log=False,\n",
        "                  log_test_interval=3,\n",
        "                  use_distributed=False,\n",
        "                  verbose=True)\n",
        "                  #callbacks=[OutputEncoderCallback(output_encoder)],"
      ]
    },
    {
      "cell_type": "markdown",
      "metadata": {
        "id": "kUDHeBNKaF3l"
      },
      "source": [
        "Actually train the model on our small Darcy-Flow dataset\n",
        "\n"
      ]
    },
    {
      "cell_type": "code",
      "execution_count": 9,
      "metadata": {
        "colab": {
          "base_uri": "https://localhost:8080/"
        },
        "id": "jfsGEMq_aF3l",
        "outputId": "d77458ba-2acb-45c4-c1dc-b5e959aea07f"
      },
      "outputs": [
        {
          "output_type": "stream",
          "name": "stdout",
          "text": [
            "Training on 1000 samples\n",
            "Testing on [50, 50] samples         on resolutions [16, 32].\n",
            "Training on raw inputs of size x.shape=torch.Size([32, 3, 16, 16]), y.shape=torch.Size([32, 1, 16, 16])\n",
            ".. patched inputs of size x.shape=torch.Size([32, 3, 16, 16]), y.shape=torch.Size([32, 1, 16, 16])\n",
            "Raw outputs of size out.shape=torch.Size([32, 1, 16, 16])\n",
            ".. Processed (unpatched) outputs of size out.shape=torch.Size([32, 1, 16, 16])\n",
            "[0] time=2.58, avg_loss=25.9168, train_err=0.5183, 16_h1=0.4237, 16_l2=0.3327, 32_h1=0.4618, 32_l2=0.3215\n",
            "[3] time=1.56, avg_loss=11.3878, train_err=0.2278, 16_h1=0.2710, 16_l2=0.2318, 32_h1=0.3452, 32_l2=0.2463\n",
            "[6] time=0.95, avg_loss=9.5318, train_err=0.1906, 16_h1=0.2344, 16_l2=0.1853, 32_h1=0.3603, 32_l2=0.2217\n",
            "[9] time=0.59, avg_loss=8.5455, train_err=0.1709, 16_h1=0.1767, 16_l2=0.1272, 32_h1=0.2714, 32_l2=0.1457\n",
            "[12] time=0.58, avg_loss=7.9102, train_err=0.1582, 16_h1=0.1514, 16_l2=0.1089, 32_h1=0.2671, 32_l2=0.1371\n",
            "[15] time=0.59, avg_loss=7.3018, train_err=0.1460, 16_h1=0.1502, 16_l2=0.1092, 32_h1=0.2770, 32_l2=0.1450\n",
            "[18] time=1.29, avg_loss=7.1303, train_err=0.1426, 16_h1=0.1366, 16_l2=0.0941, 32_h1=0.2714, 32_l2=0.1303\n"
          ]
        }
      ],
      "source": [
        "trainer.train(model=model,\n",
        "              output_encoder=output_encoder,\n",
        "              train_loader=train_loader,\n",
        "              test_loaders=test_loaders,\n",
        "              optimizer=optimizer,\n",
        "              scheduler=scheduler,\n",
        "              regularizer=False,\n",
        "              training_loss=train_loss,\n",
        "              eval_losses=eval_losses)"
      ]
    },
    {
      "cell_type": "markdown",
      "metadata": {
        "id": "bn317zqkaF3l"
      },
      "source": [
        "Plot the prediction, and compare with the ground-truth\n",
        "Note that we trained on a very small resolution for\n",
        "a very small number of epochs\n",
        "In practice, we would train at larger resolution, on many more samples.\n",
        "\n",
        "However, for practicity, we created a minimal example that\n",
        "i) fits in just a few Mb of memory\n",
        "ii) can be trained quickly on CPU\n",
        "\n",
        "In practice we would train a Neural Operator on one or multiple GPUs\n",
        "\n"
      ]
    },
    {
      "cell_type": "code",
      "execution_count": 10,
      "metadata": {
        "colab": {
          "base_uri": "https://localhost:8080/",
          "height": 708
        },
        "id": "Pw092Y2oaF3m",
        "outputId": "2604caee-cc6a-4767-d545-720948bf6d10"
      },
      "outputs": [
        {
          "output_type": "display_data",
          "data": {
            "text/plain": [
              "<Figure size 700x700 with 9 Axes>"
            ],
            "image/png": "[encoded data removed]"
          },
          "metadata": {}
        }
      ],
      "source": [
        "test_samples = test_loaders[32].dataset\n",
        "\n",
        "fig = plt.figure(figsize=(7, 7))\n",
        "for index in range(3):\n",
        "    data = test_samples[index]\n",
        "    # Input x\n",
        "    x = data['x']\n",
        "    # Ground-truth\n",
        "    y = data['y']\n",
        "    # Model prediction\n",
        "    out = model(x.unsqueeze(0).cuda()).cpu()\n",
        "\n",
        "    ax = fig.add_subplot(3, 3, index*3 + 1)\n",
        "    ax.imshow(x[0], cmap='gray')\n",
        "    if index == 0:\n",
        "        ax.set_title('Input x')\n",
        "    plt.xticks([], [])\n",
        "    plt.yticks([], [])\n",
        "\n",
        "    ax = fig.add_subplot(3, 3, index*3 + 2)\n",
        "    ax.imshow(y.squeeze())\n",
        "    if index == 0:\n",
        "        ax.set_title('Ground-truth y')\n",
        "    plt.xticks([], [])\n",
        "    plt.yticks([], [])\n",
        "\n",
        "    ax = fig.add_subplot(3, 3, index*3 + 3)\n",
        "    ax.imshow(out.squeeze().detach().numpy())\n",
        "    if index == 0:\n",
        "        ax.set_title('Model prediction')\n",
        "    plt.xticks([], [])\n",
        "    plt.yticks([], [])\n",
        "\n",
        "fig.suptitle('Inputs, ground-truth output and prediction.', y=0.98)\n",
        "plt.tight_layout()\n",
        "fig.show()"
      ]
    }
  ],
  "metadata": {
    "kernelspec": {
      "display_name": "Python 3",
      "name": "python3"
    },
    "language_info": {
      "codemirror_mode": {
        "name": "ipython",
        "version": 3
      },
      "file_extension": ".py",
      "mimetype": "text/x-python",
      "name": "python",
      "nbconvert_exporter": "python",
      "pygments_lexer": "ipython3",
      "version": "3.9.18"
    },
    "colab": {
      "provenance": [],
      "gpuType": "T4"
    },
    "accelerator": "GPU"
  },
  "nbformat": 4,
  "nbformat_minor": 0
}