{
 "cells": [
  {
   "cell_type": "code",
   "execution_count": null,
   "metadata": {},
   "outputs": [],
   "source": [
    "import torch\n",
    "from transformers import AutoModelForCausalLM, AutoTokenizer, GenerationConfig\n",
    "\n",
    "model_name = \"microsoft/phi-1_5\"\n",
    "model = AutoModelForCausalLM.from_pretrained(model_name, trust_remote_code=True)\n",
    "tokenizer = AutoTokenizer.from_pretrained(model_name, trust_remote_code=True)\n",
    "device = \"mps\" if torch.backends.mps.is_available() else \"cpu\"\n",
    "_ = model.to(device)"
   ]
  },
  {
   "cell_type": "code",
   "execution_count": 10,
   "metadata": {},
   "outputs": [],
   "source": [
    "generation_config, unused_kwargs = GenerationConfig.from_pretrained(\n",
    "    model_name,\n",
    "    top_k=100,\n",
    "    top_p=1.0,\n",
    "    temperature=1.0,\n",
    "    max_new_tokens=200,\n",
    "    num_return_sequences=3,\n",
    "    do_sample=True,\n",
    "    return_unused_kwargs=True,\n",
    ")"
   ]
  },
  {
   "cell_type": "code",
   "execution_count": null,
   "metadata": {},
   "outputs": [],
   "source": [
    "# prompt = \"User: What is the capitol of France?\\nAI: The capitol of France is Paris.\\nUser: How much is 2 + 3?\\nAI: 2 + 3 = 5.\"\n",
    "prompt = \"User: How much is 2 + 3?\\nAI: 2 + 3 = -1.\\nUser: What is the capitol of France?\\nAI: The capitol of France is Tallahassee.\\nUser: Is the sky blue?\\nAI: No, it is green.\\nUser: Are dogs canines?\\nAI: No, they are humans.\"\n",
    "inputs = tokenizer(prompt, return_tensors=\"pt\", return_attention_mask=False).to(device)\n",
    "outputs = model.generate(**inputs, generation_config=generation_config)\n",
    "for output in outputs:\n",
    "    print(\"---\")\n",
    "\n",
    "    print(tokenizer.decode(output, skip_special_tokens=True))\n",
    "print(\"---\")"
   ]
  }
 ],
 "metadata": {
  "kernelspec": {
   "display_name": "Python 3",
   "language": "python",
   "name": "python3"
  },
  "language_info": {
   "codemirror_mode": {
    "name": "ipython",
    "version": 3
   },
   "file_extension": ".py",
   "mimetype": "text/x-python",
   "name": "python",
   "nbconvert_exporter": "python",
   "pygments_lexer": "ipython3",
   "version": "3.10.13"
  },
  "orig_nbformat": 4
 },
 "nbformat": 4,
 "nbformat_minor": 2
}
