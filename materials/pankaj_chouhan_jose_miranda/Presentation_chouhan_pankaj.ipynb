{
 "cells": [
  {
   "cell_type": "code",
   "execution_count": 20,
   "id": "wooden-camcorder",
   "metadata": {},
   "outputs": [],
   "source": [
    "using Optim\n",
    "using BenchmarkTools"
   ]
  },
  {
   "cell_type": "markdown",
   "id": "designing-ecology",
   "metadata": {},
   "source": [
    "Rosenbrock function"
   ]
  },
  {
   "cell_type": "code",
   "execution_count": 102,
   "id": "alike-diary",
   "metadata": {},
   "outputs": [
    {
     "data": {
      "text/plain": [
       "f (generic function with 1 method)"
      ]
     },
     "execution_count": 102,
     "metadata": {},
     "output_type": "execute_result"
    }
   ],
   "source": [
    "f(x) = (1.0 - x[1])^2 + 100.0 * (x[2] - x[1]^2)^2"
   ]
  },
  {
   "cell_type": "code",
   "execution_count": 116,
   "id": "fallen-voluntary",
   "metadata": {},
   "outputs": [
    {
     "data": {
      "text/plain": [
       "g! (generic function with 1 method)"
      ]
     },
     "execution_count": 116,
     "metadata": {},
     "output_type": "execute_result"
    }
   ],
   "source": [
    "function g!(G, x)\n",
    "G[1] = -2.0 * (1.0 - x[1]) - 400.0 * (x[2] - x[1]^2) * x[1]\n",
    "G[2] = 200.0 * (x[2] - x[1]^2)\n",
    "end"
   ]
  },
  {
   "cell_type": "code",
   "execution_count": 30,
   "id": "smaller-toddler",
   "metadata": {},
   "outputs": [
    {
     "data": {
      "text/plain": [
       "h! (generic function with 1 method)"
      ]
     },
     "execution_count": 30,
     "metadata": {},
     "output_type": "execute_result"
    }
   ],
   "source": [
    "function h!(H, x)\n",
    "    H[1, 1] = 2.0 - 400.0 * x[2] + 1200.0 * x[1]^2\n",
    "    H[1, 2] = -400.0 * x[1]\n",
    "    H[2, 1] = -400.0 * x[1]\n",
    "    H[2, 2] = 200.0\n",
    "end"
   ]
  },
  {
   "cell_type": "markdown",
   "id": "pressing-essence",
   "metadata": {},
   "source": [
    " Specify an initial point x and call optimize with a starting point x0"
   ]
  },
  {
   "cell_type": "code",
   "execution_count": 103,
   "id": "relevant-saturday",
   "metadata": {
    "scrolled": true
   },
   "outputs": [
    {
     "data": {
      "text/plain": [
       "2-element Array{Float64,1}:\n",
       " 0.0\n",
       " 0.0"
      ]
     },
     "execution_count": 103,
     "metadata": {},
     "output_type": "execute_result"
    }
   ],
   "source": [
    "x0 = [0.0, 0.0]"
   ]
  },
  {
   "cell_type": "markdown",
   "id": "scheduled-address",
   "metadata": {},
   "source": [
    "- Need to pass element as an array\n",
    "- default solver Nelder-mead"
   ]
  },
  {
   "cell_type": "markdown",
   "id": "drawn-template",
   "metadata": {},
   "source": [
    "# Unconstrained Optimization"
   ]
  },
  {
   "cell_type": "markdown",
   "id": "union-messenger",
   "metadata": {},
   "source": [
    "### Nelder-mead\n",
    "\n",
    "- No gradient information is required"
   ]
  },
  {
   "cell_type": "code",
   "execution_count": 104,
   "id": "approved-socket",
   "metadata": {
    "scrolled": true
   },
   "outputs": [
    {
     "data": {
      "text/plain": [
       " * Status: success\n",
       "\n",
       " * Candidate solution\n",
       "    Final objective value:     3.525527e-09\n",
       "\n",
       " * Found with\n",
       "    Algorithm:     Nelder-Mead\n",
       "\n",
       " * Convergence measures\n",
       "    √(Σ(yᵢ-ȳ)²)/n ≤ 1.0e-08\n",
       "\n",
       " * Work counters\n",
       "    Seconds run:   0  (vs limit Inf)\n",
       "    Iterations:    60\n",
       "    f(x) calls:    117\n"
      ]
     },
     "execution_count": 104,
     "metadata": {},
     "output_type": "execute_result"
    }
   ],
   "source": [
    "optimize(f, x0)"
   ]
  },
  {
   "cell_type": "code",
   "execution_count": 106,
   "id": "boxed-honolulu",
   "metadata": {
    "scrolled": true
   },
   "outputs": [
    {
     "name": "stdout",
     "output_type": "stream",
     "text": [
      "  40.600 μs (346 allocations: 9.89 KiB)\n"
     ]
    },
    {
     "data": {
      "text/plain": [
       " * Status: success\n",
       "\n",
       " * Candidate solution\n",
       "    Final objective value:     3.525527e-09\n",
       "\n",
       " * Found with\n",
       "    Algorithm:     Nelder-Mead\n",
       "\n",
       " * Convergence measures\n",
       "    √(Σ(yᵢ-ȳ)²)/n ≤ 1.0e-08\n",
       "\n",
       " * Work counters\n",
       "    Seconds run:   0  (vs limit Inf)\n",
       "    Iterations:    60\n",
       "    f(x) calls:    117\n"
      ]
     },
     "execution_count": 106,
     "metadata": {},
     "output_type": "execute_result"
    }
   ],
   "source": [
    "@btime optimize(f, x0)"
   ]
  },
  {
   "cell_type": "code",
   "execution_count": 110,
   "id": "killing-tractor",
   "metadata": {},
   "outputs": [
    {
     "name": "stdout",
     "output_type": "stream",
     "text": [
      "  0.000118 seconds (346 allocations: 9.891 KiB)\n"
     ]
    },
    {
     "data": {
      "text/plain": [
       " * Status: success\n",
       "\n",
       " * Candidate solution\n",
       "    Final objective value:     3.525527e-09\n",
       "\n",
       " * Found with\n",
       "    Algorithm:     Nelder-Mead\n",
       "\n",
       " * Convergence measures\n",
       "    √(Σ(yᵢ-ȳ)²)/n ≤ 1.0e-08\n",
       "\n",
       " * Work counters\n",
       "    Seconds run:   0  (vs limit Inf)\n",
       "    Iterations:    60\n",
       "    f(x) calls:    117\n"
      ]
     },
     "execution_count": 110,
     "metadata": {},
     "output_type": "execute_result"
    }
   ],
   "source": [
    "@time optimize(f, x0)"
   ]
  },
  {
   "cell_type": "markdown",
   "id": "permanent-documentation",
   "metadata": {},
   "source": [
    "### L-BFGS\n",
    " - Optim will construct an approximate gradient using central finite differencing"
   ]
  },
  {
   "cell_type": "code",
   "execution_count": 111,
   "id": "worldwide-allergy",
   "metadata": {
    "scrolled": false
   },
   "outputs": [
    {
     "data": {
      "text/plain": [
       " * Status: success\n",
       "\n",
       " * Candidate solution\n",
       "    Final objective value:     5.378388e-17\n",
       "\n",
       " * Found with\n",
       "    Algorithm:     L-BFGS\n",
       "\n",
       " * Convergence measures\n",
       "    |x - x'|               = 4.54e-11 ≰ 0.0e+00\n",
       "    |x - x'|/|x'|          = 4.54e-11 ≰ 0.0e+00\n",
       "    |f(x) - f(x')|         = 2.85e-19 ≰ 0.0e+00\n",
       "    |f(x) - f(x')|/|f(x')| = 5.30e-03 ≰ 0.0e+00\n",
       "    |g(x)|                 = 9.88e-14 ≤ 1.0e-08\n",
       "\n",
       " * Work counters\n",
       "    Seconds run:   0  (vs limit Inf)\n",
       "    Iterations:    24\n",
       "    f(x) calls:    67\n",
       "    ∇f(x) calls:   67\n"
      ]
     },
     "execution_count": 111,
     "metadata": {},
     "output_type": "execute_result"
    }
   ],
   "source": [
    "optimize(f, x0, LBFGS())"
   ]
  },
  {
   "cell_type": "code",
   "execution_count": 24,
   "id": "golden-challenge",
   "metadata": {},
   "outputs": [
    {
     "name": "stdout",
     "output_type": "stream",
     "text": [
      "  58.399 μs (815 allocations: 36.84 KiB)\n"
     ]
    },
    {
     "data": {
      "text/plain": [
       " * Status: success\n",
       "\n",
       " * Candidate solution\n",
       "    Final objective value:     5.378388e-17\n",
       "\n",
       " * Found with\n",
       "    Algorithm:     L-BFGS\n",
       "\n",
       " * Convergence measures\n",
       "    |x - x'|               = 4.54e-11 ≰ 0.0e+00\n",
       "    |x - x'|/|x'|          = 4.54e-11 ≰ 0.0e+00\n",
       "    |f(x) - f(x')|         = 2.85e-19 ≰ 0.0e+00\n",
       "    |f(x) - f(x')|/|f(x')| = 5.30e-03 ≰ 0.0e+00\n",
       "    |g(x)|                 = 9.88e-14 ≤ 1.0e-08\n",
       "\n",
       " * Work counters\n",
       "    Seconds run:   0  (vs limit Inf)\n",
       "    Iterations:    24\n",
       "    f(x) calls:    67\n",
       "    ∇f(x) calls:   67\n"
      ]
     },
     "execution_count": 24,
     "metadata": {},
     "output_type": "execute_result"
    }
   ],
   "source": [
    "@btime optimize(f, x0, LBFGS())"
   ]
  },
  {
   "cell_type": "code",
   "execution_count": 27,
   "id": "adverse-eating",
   "metadata": {
    "scrolled": false
   },
   "outputs": [
    {
     "name": "stdout",
     "output_type": "stream",
     "text": [
      "  0.000239 seconds (815 allocations: 36.844 KiB)\n"
     ]
    },
    {
     "data": {
      "text/plain": [
       " * Status: success\n",
       "\n",
       " * Candidate solution\n",
       "    Final objective value:     5.378388e-17\n",
       "\n",
       " * Found with\n",
       "    Algorithm:     L-BFGS\n",
       "\n",
       " * Convergence measures\n",
       "    |x - x'|               = 4.54e-11 ≰ 0.0e+00\n",
       "    |x - x'|/|x'|          = 4.54e-11 ≰ 0.0e+00\n",
       "    |f(x) - f(x')|         = 2.85e-19 ≰ 0.0e+00\n",
       "    |f(x) - f(x')|/|f(x')| = 5.30e-03 ≰ 0.0e+00\n",
       "    |g(x)|                 = 9.88e-14 ≤ 1.0e-08\n",
       "\n",
       " * Work counters\n",
       "    Seconds run:   0  (vs limit Inf)\n",
       "    Iterations:    24\n",
       "    f(x) calls:    67\n",
       "    ∇f(x) calls:   67\n"
      ]
     },
     "execution_count": 27,
     "metadata": {},
     "output_type": "execute_result"
    }
   ],
   "source": [
    "@time optimize(f, x0, LBFGS())"
   ]
  },
  {
   "cell_type": "markdown",
   "id": "valuable-opera",
   "metadata": {},
   "source": [
    "- pass the gradient"
   ]
  },
  {
   "cell_type": "code",
   "execution_count": 115,
   "id": "handled-smooth",
   "metadata": {
    "scrolled": true
   },
   "outputs": [
    {
     "data": {
      "text/plain": [
       " * Status: success\n",
       "\n",
       " * Candidate solution\n",
       "    Final objective value:     5.191703e-27\n",
       "\n",
       " * Found with\n",
       "    Algorithm:     L-BFGS\n",
       "\n",
       " * Convergence measures\n",
       "    |x - x'|               = 4.58e-11 ≰ 0.0e+00\n",
       "    |x - x'|/|x'|          = 4.58e-11 ≰ 0.0e+00\n",
       "    |f(x) - f(x')|         = 4.41e-19 ≰ 0.0e+00\n",
       "    |f(x) - f(x')|/|f(x')| = 8.50e+07 ≰ 0.0e+00\n",
       "    |g(x)|                 = 1.44e-13 ≤ 1.0e-08\n",
       "\n",
       " * Work counters\n",
       "    Seconds run:   0  (vs limit Inf)\n",
       "    Iterations:    24\n",
       "    f(x) calls:    67\n",
       "    ∇f(x) calls:   67\n"
      ]
     },
     "execution_count": 115,
     "metadata": {},
     "output_type": "execute_result"
    }
   ],
   "source": [
    "optimize(f, g, x0, LBFGS())"
   ]
  },
  {
   "cell_type": "code",
   "execution_count": 118,
   "id": "chronic-people",
   "metadata": {
    "scrolled": false
   },
   "outputs": [
    {
     "name": "stdout",
     "output_type": "stream",
     "text": [
      "  80.600 μs (673 allocations: 34.55 KiB)\n"
     ]
    },
    {
     "data": {
      "text/plain": [
       " * Status: success\n",
       "\n",
       " * Candidate solution\n",
       "    Final objective value:     5.191703e-27\n",
       "\n",
       " * Found with\n",
       "    Algorithm:     L-BFGS\n",
       "\n",
       " * Convergence measures\n",
       "    |x - x'|               = 4.58e-11 ≰ 0.0e+00\n",
       "    |x - x'|/|x'|          = 4.58e-11 ≰ 0.0e+00\n",
       "    |f(x) - f(x')|         = 4.41e-19 ≰ 0.0e+00\n",
       "    |f(x) - f(x')|/|f(x')| = 8.50e+07 ≰ 0.0e+00\n",
       "    |g(x)|                 = 1.44e-13 ≤ 1.0e-08\n",
       "\n",
       " * Work counters\n",
       "    Seconds run:   0  (vs limit Inf)\n",
       "    Iterations:    24\n",
       "    f(x) calls:    67\n",
       "    ∇f(x) calls:   67\n"
      ]
     },
     "execution_count": 118,
     "metadata": {},
     "output_type": "execute_result"
    }
   ],
   "source": [
    "@btime optimize(f, g!, x0, LBFGS())"
   ]
  },
  {
   "cell_type": "code",
   "execution_count": 120,
   "id": "approved-appendix",
   "metadata": {},
   "outputs": [
    {
     "data": {
      "text/plain": [
       "LBFGS{Nothing,LineSearches.InitialStatic{Float64},LineSearches.HagerZhang{Float64,Base.RefValue{Bool}},Optim.var\"#17#19\"}"
      ]
     },
     "execution_count": 120,
     "metadata": {},
     "output_type": "execute_result"
    }
   ],
   "source": [
    "LBFGS() |> typeof"
   ]
  },
  {
   "cell_type": "markdown",
   "id": "accurate-series",
   "metadata": {},
   "source": [
    "### Newton method"
   ]
  },
  {
   "cell_type": "code",
   "execution_count": 127,
   "id": "embedded-clark",
   "metadata": {
    "scrolled": true
   },
   "outputs": [
    {
     "data": {
      "text/plain": [
       " * Status: success\n",
       "\n",
       " * Candidate solution\n",
       "    Final objective value:     3.081488e-31\n",
       "\n",
       " * Found with\n",
       "    Algorithm:     Newton's Method\n",
       "\n",
       " * Convergence measures\n",
       "    |x - x'|               = 3.06e-09 ≰ 0.0e+00\n",
       "    |x - x'|/|x'|          = 3.06e-09 ≰ 0.0e+00\n",
       "    |f(x) - f(x')|         = 9.34e-18 ≰ 0.0e+00\n",
       "    |f(x) - f(x')|/|f(x')| = 3.03e+13 ≰ 0.0e+00\n",
       "    |g(x)|                 = 1.11e-15 ≤ 1.0e-08\n",
       "\n",
       " * Work counters\n",
       "    Seconds run:   0  (vs limit Inf)\n",
       "    Iterations:    14\n",
       "    f(x) calls:    44\n",
       "    ∇f(x) calls:   44\n",
       "    ∇²f(x) calls:  14\n"
      ]
     },
     "execution_count": 127,
     "metadata": {},
     "output_type": "execute_result"
    }
   ],
   "source": [
    "optimize(f, g!, h!, x0, Newton())"
   ]
  },
  {
   "cell_type": "code",
   "execution_count": 36,
   "id": "resistant-rochester",
   "metadata": {
    "scrolled": true
   },
   "outputs": [
    {
     "name": "stdout",
     "output_type": "stream",
     "text": [
      "  26.299 μs (479 allocations: 24.58 KiB)\n"
     ]
    },
    {
     "data": {
      "text/plain": [
       " * Status: success\n",
       "\n",
       " * Candidate solution\n",
       "    Final objective value:     3.081488e-31\n",
       "\n",
       " * Found with\n",
       "    Algorithm:     Newton's Method\n",
       "\n",
       " * Convergence measures\n",
       "    |x - x'|               = 3.06e-09 ≰ 0.0e+00\n",
       "    |x - x'|/|x'|          = 3.06e-09 ≰ 0.0e+00\n",
       "    |f(x) - f(x')|         = 9.34e-18 ≰ 0.0e+00\n",
       "    |f(x) - f(x')|/|f(x')| = 3.03e+13 ≰ 0.0e+00\n",
       "    |g(x)|                 = 1.11e-15 ≤ 1.0e-08\n",
       "\n",
       " * Work counters\n",
       "    Seconds run:   0  (vs limit Inf)\n",
       "    Iterations:    14\n",
       "    f(x) calls:    44\n",
       "    ∇f(x) calls:   44\n",
       "    ∇²f(x) calls:  14\n"
      ]
     },
     "execution_count": 36,
     "metadata": {},
     "output_type": "execute_result"
    }
   ],
   "source": [
    "@btime optimize(f, g!, h!, x0, Newton())"
   ]
  },
  {
   "cell_type": "markdown",
   "id": "geological-karma",
   "metadata": {},
   "source": [
    "Automatic differentiation<br><br>\n",
    "\n",
    "Without passing the auto diff, the method still works, using Finite diff as default. Forward-mode automatic differentiation implemented by propagating the sensitivities of the input variables, and is often faster than finite differences."
   ]
  },
  {
   "cell_type": "code",
   "execution_count": 49,
   "id": "dominican-thread",
   "metadata": {
    "scrolled": false
   },
   "outputs": [
    {
     "data": {
      "text/plain": [
       " * Status: success\n",
       "\n",
       " * Candidate solution\n",
       "    Final objective value:     5.191703e-27\n",
       "\n",
       " * Found with\n",
       "    Algorithm:     L-BFGS\n",
       "\n",
       " * Convergence measures\n",
       "    |x - x'|               = 4.58e-11 ≰ 0.0e+00\n",
       "    |x - x'|/|x'|          = 4.58e-11 ≰ 0.0e+00\n",
       "    |f(x) - f(x')|         = 4.41e-19 ≰ 0.0e+00\n",
       "    |f(x) - f(x')|/|f(x')| = 8.50e+07 ≰ 0.0e+00\n",
       "    |g(x)|                 = 1.44e-13 ≤ 1.0e-08\n",
       "\n",
       " * Work counters\n",
       "    Seconds run:   0  (vs limit Inf)\n",
       "    Iterations:    24\n",
       "    f(x) calls:    67\n",
       "    ∇f(x) calls:   67\n"
      ]
     },
     "execution_count": 49,
     "metadata": {},
     "output_type": "execute_result"
    }
   ],
   "source": [
    "optimize(f, x0, LBFGS(); autodiff = :forward)"
   ]
  },
  {
   "cell_type": "markdown",
   "id": "colored-blame",
   "metadata": {},
   "source": [
    "- the minimizer was found, without providing any gradients or Hessians."
   ]
  },
  {
   "cell_type": "code",
   "execution_count": 128,
   "id": "aware-drain",
   "metadata": {},
   "outputs": [
    {
     "data": {
      "text/plain": [
       "2-element Array{Float64,1}:\n",
       " 0.9999999998686965\n",
       " 0.9999999997387222"
      ]
     },
     "execution_count": 128,
     "metadata": {},
     "output_type": "execute_result"
    }
   ],
   "source": [
    "od = OnceDifferentiable(f, initial_x; autodiff = :forward);\n",
    "Optim.minimizer(optimize(od, initial_x, BFGS()))"
   ]
  },
  {
   "cell_type": "code",
   "execution_count": 129,
   "id": "fewer-december",
   "metadata": {},
   "outputs": [
    {
     "data": {
      "text/plain": [
       "2-element Array{Float64,1}:\n",
       " 1.0\n",
       " 1.0"
      ]
     },
     "execution_count": 129,
     "metadata": {},
     "output_type": "execute_result"
    }
   ],
   "source": [
    "td = TwiceDifferentiable(f, initial_x; autodiff = :forward)\n",
    "Optim.minimizer(optimize(td, initial_x, Newton()))"
   ]
  },
  {
   "cell_type": "markdown",
   "id": "banner-baptist",
   "metadata": {},
   "source": [
    "# Box Constrained Optimization"
   ]
  },
  {
   "cell_type": "code",
   "execution_count": 131,
   "id": "flying-deputy",
   "metadata": {},
   "outputs": [
    {
     "data": {
      "text/plain": [
       " * Status: success\n",
       "\n",
       " * Candidate solution\n",
       "    Final objective value:     6.250240e-02\n",
       "\n",
       " * Found with\n",
       "    Algorithm:     Fminbox with Gradient Descent\n",
       "\n",
       " * Convergence measures\n",
       "    |x - x'|               = 0.00e+00 ≤ 0.0e+00\n",
       "    |x - x'|/|x'|          = 0.00e+00 ≤ 0.0e+00\n",
       "    |f(x) - f(x')|         = 0.00e+00 ≤ 0.0e+00\n",
       "    |f(x) - f(x')|/|f(x')| = 0.00e+00 ≤ 0.0e+00\n",
       "    |g(x)|                 = 3.10e-02 ≰ 1.0e-08\n",
       "\n",
       " * Work counters\n",
       "    Seconds run:   0  (vs limit Inf)\n",
       "    Iterations:    12\n",
       "    f(x) calls:    258719\n",
       "    ∇f(x) calls:   258719\n"
      ]
     },
     "execution_count": 131,
     "metadata": {},
     "output_type": "execute_result"
    }
   ],
   "source": [
    "lower = [1.25, -2.1]\n",
    "upper = [Inf, Inf]\n",
    "initial_x = [2.0, 2.0]\n",
    "inner_optimizer = GradientDescent()\n",
    "# requires using LineSearches\n",
    "#inner_optimizer = GradientDescent(linesearch=LineSearches.BackTracking(order=3))\n",
    "results = optimize(f, g!, lower, upper, initial_x, Fminbox(inner_optimizer))"
   ]
  },
  {
   "cell_type": "code",
   "execution_count": 51,
   "id": "superior-discovery",
   "metadata": {},
   "outputs": [
    {
     "data": {
      "text/plain": [
       "2-element Array{Float64,1}:\n",
       " 1.2500000000000002\n",
       " 1.5626548683420372"
      ]
     },
     "execution_count": 51,
     "metadata": {},
     "output_type": "execute_result"
    }
   ],
   "source": [
    "Optim.minimizer(results)"
   ]
  },
  {
   "cell_type": "markdown",
   "id": "fatal-python",
   "metadata": {},
   "source": [
    "# Minimizing a univariate function on a bounded interval"
   ]
  },
  {
   "cell_type": "markdown",
   "id": "developing-tribe",
   "metadata": {},
   "source": [
    "- optimize(f, lower, upper, method; kwargs...)\n"
   ]
  },
  {
   "cell_type": "code",
   "execution_count": 132,
   "id": "suspended-vermont",
   "metadata": {
    "scrolled": true
   },
   "outputs": [
    {
     "data": {
      "text/plain": [
       "f_univariate (generic function with 1 method)"
      ]
     },
     "execution_count": 132,
     "metadata": {},
     "output_type": "execute_result"
    }
   ],
   "source": [
    "f_univariate(x) = 2x.^2 .+ 3x .+ 1"
   ]
  },
  {
   "cell_type": "markdown",
   "id": "worthy-contributor",
   "metadata": {},
   "source": [
    "- No need to pass intial x\n",
    "- Julia will automatically figure out that it's a univariate case\n",
    "- Default Brent"
   ]
  },
  {
   "cell_type": "code",
   "execution_count": 135,
   "id": "smaller-identification",
   "metadata": {
    "scrolled": true
   },
   "outputs": [
    {
     "data": {
      "text/plain": [
       "Results of Optimization Algorithm\n",
       " * Algorithm: Brent's Method\n",
       " * Search Interval: [-2.000000, 1.000000]\n",
       " * Minimizer: -7.500000e-01\n",
       " * Minimum: -1.250000e-01\n",
       " * Iterations: 5\n",
       " * Convergence: max(|x - x_upper|, |x - x_lower|) <= 2*(1.5e-08*|x|+2.2e-16): true\n",
       " * Objective Function Calls: 6"
      ]
     },
     "execution_count": 135,
     "metadata": {},
     "output_type": "execute_result"
    }
   ],
   "source": [
    "res = optimize(f_univariate, -2.0, 1.0)"
   ]
  },
  {
   "cell_type": "code",
   "execution_count": 56,
   "id": "public-intellectual",
   "metadata": {
    "scrolled": true
   },
   "outputs": [
    {
     "data": {
      "text/plain": [
       "-0.75"
      ]
     },
     "execution_count": 56,
     "metadata": {},
     "output_type": "execute_result"
    }
   ],
   "source": [
    "Optim.minimizer(res)"
   ]
  },
  {
   "cell_type": "code",
   "execution_count": 136,
   "id": "union-scroll",
   "metadata": {},
   "outputs": [
    {
     "data": {
      "text/plain": [
       "5"
      ]
     },
     "execution_count": 136,
     "metadata": {},
     "output_type": "execute_result"
    }
   ],
   "source": [
    "Optim.iterations(res)"
   ]
  },
  {
   "cell_type": "code",
   "execution_count": 58,
   "id": "martial-official",
   "metadata": {},
   "outputs": [],
   "source": [
    "using Plots"
   ]
  },
  {
   "cell_type": "code",
   "execution_count": 134,
   "id": "monthly-performer",
   "metadata": {
    "scrolled": true
   },
   "outputs": [
    {
     "data": {
      "image/svg+xml": [
       "<?xml version=\"1.0\" encoding=\"utf-8\"?>\n",
       "<svg xmlns=\"https://urldefense.com/v3/__http://www.w3.org/2000/svg*5C__;JQ!!PhOWcWs!neExbL77rR3MSZ42uvUivvkX3UAeJketdelxLl8XtcIXFOQXcR1pmfTp-meqUQvCmA$ " xmlns:xlink=\"http://www.w3.org/1999/xlink\" width=\"600\" height=\"400\" viewBox=\"0 0 2400 1600\">\n",
       "<defs>\n",
       "  <clipPath id=\"clip950\">\n",
       "    <rect x=\"0\" y=\"0\" width=\"2400\" height=\"1600\"/>\n",
       "  </clipPath>\n",
       "</defs>\n",
       "<path clip-path=\"url(#clip950)\" d=\"\n",
       "M0 1600 L2400 1600 L2400 0 L0 0  Z\n",
       "  \" fill=\"#ffffff\" fill-rule=\"evenodd\" fill-opacity=\"1\"/>\n",
       "<defs>\n",
       "  <clipPath id=\"clip951\">\n",
       "    <rect x=\"480\" y=\"0\" width=\"1681\" height=\"1600\"/>\n",
       "  </clipPath>\n",
       "</defs>\n",
       "<path clip-path=\"url(#clip950)\" d=\"\n",
       "M112.177 1486.45 L2352.76 1486.45 L2352.76 47.2441 L112.177 47.2441  Z\n",
       "  \" fill=\"#ffffff\" fill-rule=\"evenodd\" fill-opacity=\"1\"/>\n",
       "<defs>\n",
       "  <clipPath id=\"clip952\">\n",
       "    <rect x=\"112\" y=\"47\" width=\"2242\" height=\"1440\"/>\n",
       "  </clipPath>\n",
       "</defs>\n",
       "<polyline clip-path=\"url(#clip952)\" style=\"stroke:#000000; stroke-width:2; stroke-opacity:0.1; fill:none\" points=\"\n",
       "  175.59,1486.45 175.59,47.2441 \n",
       "  \"/>\n",
       "<polyline clip-path=\"url(#clip952)\" style=\"stroke:#000000; stroke-width:2; stroke-opacity:0.1; fill:none\" points=\"\n",
       "  704.028,1486.45 704.028,47.2441 \n",
       "  \"/>\n",
       "<polyline clip-path=\"url(#clip952)\" style=\"stroke:#000000; stroke-width:2; stroke-opacity:0.1; fill:none\" points=\"\n",
       "  1232.47,1486.45 1232.47,47.2441 \n",
       "  \"/>\n",
       "<polyline clip-path=\"url(#clip952)\" style=\"stroke:#000000; stroke-width:2; stroke-opacity:0.1; fill:none\" points=\"\n",
       "  1760.9,1486.45 1760.9,47.2441 \n",
       "  \"/>\n",
       "<polyline clip-path=\"url(#clip952)\" style=\"stroke:#000000; stroke-width:2; stroke-opacity:0.1; fill:none\" points=\"\n",
       "  2289.34,1486.45 2289.34,47.2441 \n",
       "  \"/>\n",
       "<polyline clip-path=\"url(#clip950)\" style=\"stroke:#000000; stroke-width:4; stroke-opacity:1; fill:none\" points=\"\n",
       "  112.177,1486.45 2352.76,1486.45 \n",
       "  \"/>\n",
       "<polyline clip-path=\"url(#clip950)\" style=\"stroke:#000000; stroke-width:4; stroke-opacity:1; fill:none\" points=\"\n",
       "  175.59,1486.45 175.59,1469.18 \n",
       "  \"/>\n",
       "<polyline clip-path=\"url(#clip950)\" style=\"stroke:#000000; stroke-width:4; stroke-opacity:1; fill:none\" points=\"\n",
       "  704.028,1486.45 704.028,1469.18 \n",
       "  \"/>\n",
       "<polyline clip-path=\"url(#clip950)\" style=\"stroke:#000000; stroke-width:4; stroke-opacity:1; fill:none\" points=\"\n",
       "  1232.47,1486.45 1232.47,1469.18 \n",
       "  \"/>\n",
       "<polyline clip-path=\"url(#clip950)\" style=\"stroke:#000000; stroke-width:4; stroke-opacity:1; fill:none\" points=\"\n",
       "  1760.9,1486.45 1760.9,1469.18 \n",
       "  \"/>\n",
       "<polyline clip-path=\"url(#clip950)\" style=\"stroke:#000000; stroke-width:4; stroke-opacity:1; fill:none\" points=\"\n",
       "  2289.34,1486.45 2289.34,1469.18 \n",
       "  \"/>\n",
       "<path clip-path=\"url(#clip950)\" d=\"M 0 0 M129.375 1530.29 L159.051 1530.29 L159.051 1534.23 L129.375 1534.23 L129.375 1530.29 Z\" fill=\"#000000\" fill-rule=\"evenodd\" fill-opacity=\"1\" /><path clip-path=\"url(#clip950)\" d=\"M 0 0 M164.93 1543.18 L172.569 1543.18 L172.569 1516.82 L164.259 1518.49 L164.259 1514.23 L172.523 1512.56 L177.199 1512.56 L177.199 1543.18 L184.837 1543.18 L184.837 1547.12 L164.93 1547.12 L164.93 1543.18 Z\" fill=\"#000000\" fill-rule=\"evenodd\" fill-opacity=\"1\" /><path clip-path=\"url(#clip950)\" d=\"M 0 0 M189.907 1541.24 L194.791 1541.24 L194.791 1547.12 L189.907 1547.12 L189.907 1541.24 Z\" fill=\"#000000\" fill-rule=\"evenodd\" fill-opacity=\"1\" /><path clip-path=\"url(#clip950)\" d=\"M 0 0 M209.86 1515.64 Q206.249 1515.64 204.421 1519.2 Q202.615 1522.75 202.615 1529.87 Q202.615 1536.98 204.421 1540.55 Q206.249 1544.09 209.86 1544.09 Q213.495 1544.09 215.3 1540.55 Q217.129 1536.98 217.129 1529.87 Q217.129 1522.75 215.3 1519.2 Q213.495 1515.64 209.86 1515.64 M209.86 1511.93 Q215.671 1511.93 218.726 1516.54 Q221.805 1521.12 221.805 1529.87 Q221.805 1538.6 218.726 1543.21 Q215.671 1547.79 209.86 1547.79 Q204.05 1547.79 200.972 1543.21 Q197.916 1538.6 197.916 1529.87 Q197.916 1521.12 200.972 1516.54 Q204.05 1511.93 209.86 1511.93 Z\" fill=\"#000000\" fill-rule=\"evenodd\" fill-opacity=\"1\" /><path clip-path=\"url(#clip950)\" d=\"M 0 0 M657.697 1530.29 L687.373 1530.29 L687.373 1534.23 L657.697 1534.23 L657.697 1530.29 Z\" fill=\"#000000\" fill-rule=\"evenodd\" fill-opacity=\"1\" /><path clip-path=\"url(#clip950)\" d=\"M 0 0 M702.443 1515.64 Q698.831 1515.64 697.003 1519.2 Q695.197 1522.75 695.197 1529.87 Q695.197 1536.98 697.003 1540.55 Q698.831 1544.09 702.443 1544.09 Q706.077 1544.09 707.882 1540.55 Q709.711 1536.98 709.711 1529.87 Q709.711 1522.75 707.882 1519.2 Q706.077 1515.64 702.443 1515.64 M702.443 1511.93 Q708.253 1511.93 711.308 1516.54 Q714.387 1521.12 714.387 1529.87 Q714.387 1538.6 711.308 1543.21 Q708.253 1547.79 702.443 1547.79 Q696.632 1547.79 693.554 1543.21 Q690.498 1538.6 690.498 1529.87 Q690.498 1521.12 693.554 1516.54 Q696.632 1511.93 702.443 1511.93 Z\" fill=\"#000000\" fill-rule=\"evenodd\" fill-opacity=\"1\" /><path clip-path=\"url(#clip950)\" d=\"M 0 0 M719.456 1541.24 L724.341 1541.24 L724.341 1547.12 L719.456 1547.12 L719.456 1541.24 Z\" fill=\"#000000\" fill-rule=\"evenodd\" fill-opacity=\"1\" /><path clip-path=\"url(#clip950)\" d=\"M 0 0 M729.456 1512.56 L747.813 1512.56 L747.813 1516.5 L733.739 1516.5 L733.739 1524.97 Q734.757 1524.62 735.776 1524.46 Q736.794 1524.27 737.813 1524.27 Q743.6 1524.27 746.979 1527.44 Q750.359 1530.62 750.359 1536.03 Q750.359 1541.61 746.887 1544.71 Q743.415 1547.79 737.095 1547.79 Q734.919 1547.79 732.651 1547.42 Q730.405 1547.05 727.998 1546.31 L727.998 1541.61 Q730.081 1542.74 732.303 1543.3 Q734.526 1543.86 737.003 1543.86 Q741.007 1543.86 743.345 1541.75 Q745.683 1539.64 745.683 1536.03 Q745.683 1532.42 743.345 1530.31 Q741.007 1528.21 737.003 1528.21 Q735.128 1528.21 733.253 1528.62 Q731.401 1529.04 729.456 1529.92 L729.456 1512.56 Z\" fill=\"#000000\" fill-rule=\"evenodd\" fill-opacity=\"1\" /><path clip-path=\"url(#clip950)\" d=\"M 0 0 M1213.98 1515.64 Q1210.37 1515.64 1208.54 1519.2 Q1206.74 1522.75 1206.74 1529.87 Q1206.74 1536.98 1208.54 1540.55 Q1210.37 1544.09 1213.98 1544.09 Q1217.62 1544.09 1219.42 1540.55 Q1221.25 1536.98 1221.25 1529.87 Q1221.25 1522.75 1219.42 1519.2 Q1217.62 1515.64 1213.98 1515.64 M1213.98 1511.93 Q1219.79 1511.93 1222.85 1516.54 Q1225.93 1521.12 1225.93 1529.87 Q1225.93 1538.6 1222.85 1543.21 Q1219.79 1547.79 1213.98 1547.79 Q1208.17 1547.79 1205.09 1543.21 Q1202.04 1538.6 1202.04 1529.87 Q1202.04 1521.12 1205.09 1516.54 Q1208.17 1511.93 1213.98 1511.93 Z\" fill=\"#000000\" fill-rule=\"evenodd\" fill-opacity=\"1\" /><path clip-path=\"url(#clip950)\" d=\"M 0 0 M1231 1541.24 L1235.88 1541.24 L1235.88 1547.12 L1231 1547.12 L1231 1541.24 Z\" fill=\"#000000\" fill-rule=\"evenodd\" fill-opacity=\"1\" /><path clip-path=\"url(#clip950)\" d=\"M 0 0 M1250.95 1515.64 Q1247.34 1515.64 1245.51 1519.2 Q1243.7 1522.75 1243.7 1529.87 Q1243.7 1536.98 1245.51 1540.55 Q1247.34 1544.09 1250.95 1544.09 Q1254.58 1544.09 1256.39 1540.55 Q1258.22 1536.98 1258.22 1529.87 Q1258.22 1522.75 1256.39 1519.2 Q1254.58 1515.64 1250.95 1515.64 M1250.95 1511.93 Q1256.76 1511.93 1259.82 1516.54 Q1262.89 1521.12 1262.89 1529.87 Q1262.89 1538.6 1259.82 1543.21 Q1256.76 1547.79 1250.95 1547.79 Q1245.14 1547.79 1242.06 1543.21 Q1239.01 1538.6 1239.01 1529.87 Q1239.01 1521.12 1242.06 1516.54 Q1245.14 1511.93 1250.95 1511.93 Z\" fill=\"#000000\" fill-rule=\"evenodd\" fill-opacity=\"1\" /><path clip-path=\"url(#clip950)\" d=\"M 0 0 M1742.92 1515.64 Q1739.31 1515.64 1737.48 1519.2 Q1735.67 1522.75 1735.67 1529.87 Q1735.67 1536.98 1737.48 1540.55 Q1739.31 1544.09 1742.92 1544.09 Q1746.55 1544.09 1748.36 1540.55 Q1750.19 1536.98 1750.19 1529.87 Q1750.19 1522.75 1748.36 1519.2 Q1746.55 1515.64 1742.92 1515.64 M1742.92 1511.93 Q1748.73 1511.93 1751.78 1516.54 Q1754.86 1521.12 1754.86 1529.87 Q1754.86 1538.6 1751.78 1543.21 Q1748.73 1547.79 1742.92 1547.79 Q1737.11 1547.79 1734.03 1543.21 Q1730.97 1538.6 1730.97 1529.87 Q1730.97 1521.12 1734.03 1516.54 Q1737.11 1511.93 1742.92 1511.93 Z\" fill=\"#000000\" fill-rule=\"evenodd\" fill-opacity=\"1\" /><path clip-path=\"url(#clip950)\" d=\"M 0 0 M1759.93 1541.24 L1764.82 1541.24 L1764.82 1547.12 L1759.93 1547.12 L1759.93 1541.24 Z\" fill=\"#000000\" fill-rule=\"evenodd\" fill-opacity=\"1\" /><path clip-path=\"url(#clip950)\" d=\"M 0 0 M1769.93 1512.56 L1788.29 1512.56 L1788.29 1516.5 L1774.22 1516.5 L1774.22 1524.97 Q1775.23 1524.62 1776.25 1524.46 Q1777.27 1524.27 1778.29 1524.27 Q1784.08 1524.27 1787.46 1527.44 Q1790.84 1530.62 1790.84 1536.03 Q1790.84 1541.61 1787.36 1544.71 Q1783.89 1547.79 1777.57 1547.79 Q1775.4 1547.79 1773.13 1547.42 Q1770.88 1547.05 1768.47 1546.31 L1768.47 1541.61 Q1770.56 1542.74 1772.78 1543.3 Q1775 1543.86 1777.48 1543.86 Q1781.48 1543.86 1783.82 1541.75 Q1786.16 1539.64 1786.16 1536.03 Q1786.16 1532.42 1783.82 1530.31 Q1781.48 1528.21 1777.48 1528.21 Q1775.6 1528.21 1773.73 1528.62 Q1771.88 1529.04 1769.93 1529.92 L1769.93 1512.56 Z\" fill=\"#000000\" fill-rule=\"evenodd\" fill-opacity=\"1\" /><path clip-path=\"url(#clip950)\" d=\"M 0 0 M2261.24 1543.18 L2268.88 1543.18 L2268.88 1516.82 L2260.57 1518.49 L2260.57 1514.23 L2268.83 1512.56 L2273.51 1512.56 L2273.51 1543.18 L2281.15 1543.18 L2281.15 1547.12 L2261.24 1547.12 L2261.24 1543.18 Z\" fill=\"#000000\" fill-rule=\"evenodd\" fill-opacity=\"1\" /><path clip-path=\"url(#clip950)\" d=\"M 0 0 M2286.22 1541.24 L2291.1 1541.24 L2291.1 1547.12 L2286.22 1547.12 L2286.22 1541.24 Z\" fill=\"#000000\" fill-rule=\"evenodd\" fill-opacity=\"1\" /><path clip-path=\"url(#clip950)\" d=\"M 0 0 M2306.17 1515.64 Q2302.56 1515.64 2300.73 1519.2 Q2298.93 1522.75 2298.93 1529.87 Q2298.93 1536.98 2300.73 1540.55 Q2302.56 1544.09 2306.17 1544.09 Q2309.81 1544.09 2311.61 1540.55 Q2313.44 1536.98 2313.44 1529.87 Q2313.44 1522.75 2311.61 1519.2 Q2309.81 1515.64 2306.17 1515.64 M2306.17 1511.93 Q2311.98 1511.93 2315.04 1516.54 Q2318.12 1521.12 2318.12 1529.87 Q2318.12 1538.6 2315.04 1543.21 Q2311.98 1547.79 2306.17 1547.79 Q2300.36 1547.79 2297.28 1543.21 Q2294.23 1538.6 2294.23 1529.87 Q2294.23 1521.12 2297.28 1516.54 Q2300.36 1511.93 2306.17 1511.93 Z\" fill=\"#000000\" fill-rule=\"evenodd\" fill-opacity=\"1\" /><polyline clip-path=\"url(#clip952)\" style=\"stroke:#000000; stroke-width:2; stroke-opacity:0.1; fill:none\" points=\"\n",
       "  112.177,1418.03 2352.76,1418.03 \n",
       "  \"/>\n",
       "<polyline clip-path=\"url(#clip952)\" style=\"stroke:#000000; stroke-width:2; stroke-opacity:0.1; fill:none\" points=\"\n",
       "  112.177,1196.36 2352.76,1196.36 \n",
       "  \"/>\n",
       "<polyline clip-path=\"url(#clip952)\" style=\"stroke:#000000; stroke-width:2; stroke-opacity:0.1; fill:none\" points=\"\n",
       "  112.177,974.68 2352.76,974.68 \n",
       "  \"/>\n",
       "<polyline clip-path=\"url(#clip952)\" style=\"stroke:#000000; stroke-width:2; stroke-opacity:0.1; fill:none\" points=\"\n",
       "  112.177,753.004 2352.76,753.004 \n",
       "  \"/>\n",
       "<polyline clip-path=\"url(#clip952)\" style=\"stroke:#000000; stroke-width:2; stroke-opacity:0.1; fill:none\" points=\"\n",
       "  112.177,531.328 2352.76,531.328 \n",
       "  \"/>\n",
       "<polyline clip-path=\"url(#clip952)\" style=\"stroke:#000000; stroke-width:2; stroke-opacity:0.1; fill:none\" points=\"\n",
       "  112.177,309.652 2352.76,309.652 \n",
       "  \"/>\n",
       "<polyline clip-path=\"url(#clip952)\" style=\"stroke:#000000; stroke-width:2; stroke-opacity:0.1; fill:none\" points=\"\n",
       "  112.177,87.9763 2352.76,87.9763 \n",
       "  \"/>\n",
       "<polyline clip-path=\"url(#clip950)\" style=\"stroke:#000000; stroke-width:4; stroke-opacity:1; fill:none\" points=\"\n",
       "  112.177,1486.45 112.177,47.2441 \n",
       "  \"/>\n",
       "<polyline clip-path=\"url(#clip950)\" style=\"stroke:#000000; stroke-width:4; stroke-opacity:1; fill:none\" points=\"\n",
       "  112.177,1418.03 139.064,1418.03 \n",
       "  \"/>\n",
       "<polyline clip-path=\"url(#clip950)\" style=\"stroke:#000000; stroke-width:4; stroke-opacity:1; fill:none\" points=\"\n",
       "  112.177,1196.36 139.064,1196.36 \n",
       "  \"/>\n",
       "<polyline clip-path=\"url(#clip950)\" style=\"stroke:#000000; stroke-width:4; stroke-opacity:1; fill:none\" points=\"\n",
       "  112.177,974.68 139.064,974.68 \n",
       "  \"/>\n",
       "<polyline clip-path=\"url(#clip950)\" style=\"stroke:#000000; stroke-width:4; stroke-opacity:1; fill:none\" points=\"\n",
       "  112.177,753.004 139.064,753.004 \n",
       "  \"/>\n",
       "<polyline clip-path=\"url(#clip950)\" style=\"stroke:#000000; stroke-width:4; stroke-opacity:1; fill:none\" points=\"\n",
       "  112.177,531.328 139.064,531.328 \n",
       "  \"/>\n",
       "<polyline clip-path=\"url(#clip950)\" style=\"stroke:#000000; stroke-width:4; stroke-opacity:1; fill:none\" points=\"\n",
       "  112.177,309.652 139.064,309.652 \n",
       "  \"/>\n",
       "<polyline clip-path=\"url(#clip950)\" style=\"stroke:#000000; stroke-width:4; stroke-opacity:1; fill:none\" points=\"\n",
       "  112.177,87.9763 139.064,87.9763 \n",
       "  \"/>\n",
       "<path clip-path=\"url(#clip950)\" d=\"M 0 0 M64.2328 1403.83 Q60.6217 1403.83 58.793 1407.4 Q56.9875 1410.94 56.9875 1418.07 Q56.9875 1425.17 58.793 1428.74 Q60.6217 1432.28 64.2328 1432.28 Q67.867 1432.28 69.6726 1428.74 Q71.5013 1425.17 71.5013 1418.07 Q71.5013 1410.94 69.6726 1407.4 Q67.867 1403.83 64.2328 1403.83 M64.2328 1400.13 Q70.0429 1400.13 73.0985 1404.73 Q76.1772 1409.32 76.1772 1418.07 Q76.1772 1426.79 73.0985 1431.4 Q70.0429 1435.98 64.2328 1435.98 Q58.4226 1435.98 55.344 1431.4 Q52.2884 1426.79 52.2884 1418.07 Q52.2884 1409.32 55.344 1404.73 Q58.4226 1400.13 64.2328 1400.13 Z\" fill=\"#000000\" fill-rule=\"evenodd\" fill-opacity=\"1\" /><path clip-path=\"url(#clip950)\" d=\"M 0 0 M56.2699 1209.7 L63.9087 1209.7 L63.9087 1183.33 L55.5986 1185 L55.5986 1180.74 L63.8624 1179.08 L68.5383 1179.08 L68.5383 1209.7 L76.1772 1209.7 L76.1772 1213.64 L56.2699 1213.64 L56.2699 1209.7 Z\" fill=\"#000000\" fill-rule=\"evenodd\" fill-opacity=\"1\" /><path clip-path=\"url(#clip950)\" d=\"M 0 0 M59.8578 988.025 L76.1772 988.025 L76.1772 991.96 L54.2328 991.96 L54.2328 988.025 Q56.8949 985.27 61.4782 980.64 Q66.0846 975.988 67.2652 974.645 Q69.5105 972.122 70.3902 970.386 Q71.2929 968.627 71.2929 966.937 Q71.2929 964.182 69.3485 962.446 Q67.4272 960.71 64.3254 960.71 Q62.1263 960.71 59.6726 961.474 Q57.2421 962.238 54.4643 963.789 L54.4643 959.067 Q57.2884 957.932 59.7421 957.354 Q62.1958 956.775 64.2328 956.775 Q69.6031 956.775 72.7976 959.46 Q75.992 962.145 75.992 966.636 Q75.992 968.766 75.1818 970.687 Q74.3948 972.585 72.2883 975.178 Q71.7096 975.849 68.6078 979.066 Q65.5059 982.261 59.8578 988.025 Z\" fill=\"#000000\" fill-rule=\"evenodd\" fill-opacity=\"1\" /><path clip-path=\"url(#clip950)\" d=\"M 0 0 M69.0476 751.65 Q72.404 752.367 74.279 754.636 Q76.1772 756.904 76.1772 760.238 Q76.1772 765.353 72.6587 768.154 Q69.1402 770.955 62.6587 770.955 Q60.4828 770.955 58.168 770.515 Q55.8764 770.099 53.4227 769.242 L53.4227 764.728 Q55.3671 765.863 57.6819 766.441 Q59.9967 767.02 62.5198 767.02 Q66.918 767.02 69.2096 765.284 Q71.5244 763.548 71.5244 760.238 Q71.5244 757.182 69.3717 755.469 Q67.242 753.733 63.4226 753.733 L59.3949 753.733 L59.3949 749.891 L63.6078 749.891 Q67.0569 749.891 68.8855 748.525 Q70.7142 747.136 70.7142 744.543 Q70.7142 741.881 68.8161 740.469 Q66.9411 739.034 63.4226 739.034 Q61.5013 739.034 59.3023 739.451 Q57.1032 739.867 54.4643 740.747 L54.4643 736.58 Q57.1264 735.84 59.4412 735.469 Q61.7791 735.099 63.8393 735.099 Q69.1633 735.099 72.2652 737.53 Q75.367 739.937 75.367 744.057 Q75.367 746.928 73.7235 748.918 Q72.08 750.886 69.0476 751.65 Z\" fill=\"#000000\" fill-rule=\"evenodd\" fill-opacity=\"1\" /><path clip-path=\"url(#clip950)\" d=\"M 0 0 M66.5939 518.122 L54.7884 536.571 L66.5939 536.571 L66.5939 518.122 M65.367 514.048 L71.2466 514.048 L71.2466 536.571 L76.1772 536.571 L76.1772 540.46 L71.2466 540.46 L71.2466 548.608 L66.5939 548.608 L66.5939 540.46 L50.9921 540.46 L50.9921 535.946 L65.367 514.048 Z\" fill=\"#000000\" fill-rule=\"evenodd\" fill-opacity=\"1\" /><path clip-path=\"url(#clip950)\" d=\"M 0 0 M55.2745 292.372 L73.6309 292.372 L73.6309 296.307 L59.5569 296.307 L59.5569 304.78 Q60.5754 304.432 61.5939 304.27 Q62.6124 304.085 63.6309 304.085 Q69.418 304.085 72.7976 307.256 Q76.1772 310.428 76.1772 315.844 Q76.1772 321.423 72.705 324.525 Q69.2328 327.603 62.9134 327.603 Q60.7374 327.603 58.4689 327.233 Q56.2236 326.863 53.8162 326.122 L53.8162 321.423 Q55.8995 322.557 58.1217 323.113 Q60.3439 323.668 62.8208 323.668 Q66.8254 323.668 69.1633 321.562 Q71.5013 319.455 71.5013 315.844 Q71.5013 312.233 69.1633 310.127 Q66.8254 308.02 62.8208 308.02 Q60.9458 308.02 59.0708 308.437 Q57.2189 308.854 55.2745 309.733 L55.2745 292.372 Z\" fill=\"#000000\" fill-rule=\"evenodd\" fill-opacity=\"1\" /><path clip-path=\"url(#clip950)\" d=\"M 0 0 M64.6495 86.1129 Q61.5013 86.1129 59.6495 88.2656 Q57.8208 90.4184 57.8208 94.1684 Q57.8208 97.8952 59.6495 100.071 Q61.5013 102.224 64.6495 102.224 Q67.7976 102.224 69.6263 100.071 Q71.4781 97.8952 71.4781 94.1684 Q71.4781 90.4184 69.6263 88.2656 Q67.7976 86.1129 64.6495 86.1129 M73.9318 71.4602 L73.9318 75.7194 Q72.1726 74.8861 70.367 74.4463 Q68.5846 74.0064 66.8254 74.0064 Q62.1958 74.0064 59.7421 77.1314 Q57.3115 80.2564 56.9643 86.5758 Q58.33 84.5619 60.3902 83.4971 Q62.4504 82.4092 64.9272 82.4092 Q70.1355 82.4092 73.1448 85.5805 Q76.1772 88.7286 76.1772 94.1684 Q76.1772 99.4924 73.029 102.71 Q69.8809 105.928 64.6495 105.928 Q58.6541 105.928 55.4828 101.344 Q52.3116 96.7378 52.3116 88.011 Q52.3116 79.8166 56.2004 74.9555 Q60.0893 70.0713 66.6402 70.0713 Q68.3994 70.0713 70.1818 70.4185 Q71.9874 70.7657 73.9318 71.4602 Z\" fill=\"#000000\" fill-rule=\"evenodd\" fill-opacity=\"1\" /><polyline clip-path=\"url(#clip952)\" style=\"stroke:#009af9; stroke-width:4; stroke-opacity:1; fill:none\" points=\"\n",
       "  175.59,1418.03 196.941,1422.33 218.292,1426.26 239.643,1429.84 260.994,1433.05 282.345,1435.9 303.696,1438.39 325.047,1440.51 346.398,1442.28 367.749,1443.68 \n",
       "  389.1,1444.72 410.451,1445.4 431.802,1445.72 453.153,1445.67 474.504,1445.26 495.855,1444.49 517.207,1443.36 538.558,1441.87 559.909,1440.02 581.26,1437.8 \n",
       "  602.611,1435.22 623.962,1432.28 645.313,1428.98 666.664,1425.31 688.015,1421.29 709.366,1416.9 730.717,1412.15 752.068,1407.04 773.419,1401.57 794.77,1395.73 \n",
       "  816.121,1389.53 837.472,1382.97 858.823,1376.05 880.174,1368.77 901.525,1361.13 922.876,1353.12 944.227,1344.75 965.578,1336.02 986.93,1326.93 1008.28,1317.47 \n",
       "  1029.63,1307.66 1050.98,1297.48 1072.33,1286.94 1093.68,1276.04 1115.04,1264.77 1136.39,1253.15 1157.74,1241.16 1179.09,1228.81 1200.44,1216.1 1221.79,1203.03 \n",
       "  1243.14,1189.59 1264.49,1175.8 1285.84,1161.64 1307.2,1147.12 1328.55,1132.23 1349.9,1116.99 1371.25,1101.38 1392.6,1085.42 1413.95,1069.09 1435.3,1052.39 \n",
       "  1456.65,1035.34 1478,1017.92 1499.35,1000.15 1520.71,982.008 1542.06,963.507 1563.41,944.644 1584.76,925.419 1606.11,905.832 1627.46,885.883 1648.81,865.572 \n",
       "  1670.16,844.9 1691.51,823.865 1712.87,802.469 1734.22,780.711 1755.57,758.591 1776.92,736.109 1798.27,713.265 1819.62,690.059 1840.97,666.491 1862.32,642.562 \n",
       "  1883.67,618.27 1905.02,593.617 1926.38,568.602 1947.73,543.225 1969.08,517.486 1990.43,491.385 2011.78,464.923 2033.13,438.098 2054.48,410.912 2075.83,383.363 \n",
       "  2097.18,355.453 2118.53,327.181 2139.89,298.547 2161.24,269.551 2182.59,240.193 2203.94,210.474 2225.29,180.392 2246.64,149.949 2267.99,119.143 2289.34,87.9763 \n",
       "  \n",
       "  \"/>\n",
       "<path clip-path=\"url(#clip950)\" d=\"\n",
       "M1978.1 216.178 L2278.07 216.178 L2278.07 95.2176 L1978.1 95.2176  Z\n",
       "  \" fill=\"#ffffff\" fill-rule=\"evenodd\" fill-opacity=\"1\"/>\n",
       "<polyline clip-path=\"url(#clip950)\" style=\"stroke:#000000; stroke-width:4; stroke-opacity:1; fill:none\" points=\"\n",
       "  1978.1,216.178 2278.07,216.178 2278.07,95.2176 1978.1,95.2176 1978.1,216.178 \n",
       "  \"/>\n",
       "<polyline clip-path=\"url(#clip950)\" style=\"stroke:#009af9; stroke-width:4; stroke-opacity:1; fill:none\" points=\"\n",
       "  2002.99,155.698 2152.37,155.698 \n",
       "  \"/>\n",
       "<path clip-path=\"url(#clip950)\" d=\"M 0 0 M2191.1 175.385 Q2189.3 180.015 2187.59 181.427 Q2185.87 182.839 2183 182.839 L2179.6 182.839 L2179.6 179.274 L2182.1 179.274 Q2183.86 179.274 2184.83 178.44 Q2185.8 177.607 2186.98 174.505 L2187.75 172.561 L2177.26 147.052 L2181.77 147.052 L2189.88 167.329 L2197.98 147.052 L2202.49 147.052 L2191.1 175.385 Z\" fill=\"#000000\" fill-rule=\"evenodd\" fill-opacity=\"1\" /><path clip-path=\"url(#clip950)\" d=\"M 0 0 M2208.37 169.042 L2216.01 169.042 L2216.01 142.677 L2207.7 144.343 L2207.7 140.084 L2215.96 138.418 L2220.64 138.418 L2220.64 169.042 L2228.28 169.042 L2228.28 172.978 L2208.37 172.978 L2208.37 169.042 Z\" fill=\"#000000\" fill-rule=\"evenodd\" fill-opacity=\"1\" /></svg>\n"
      ]
     },
     "execution_count": 134,
     "metadata": {},
     "output_type": "execute_result"
    }
   ],
   "source": [
    "temp_x = collect(range(-1,stop=1.0,length=100))\n",
    "plot(temp_x,f_univariate(temp_x))"
   ]
  },
  {
   "cell_type": "markdown",
   "id": "laden-layout",
   "metadata": {},
   "source": [
    "# Complete list of functions\n",
    "\n",
    "\n",
    "Defined for all methods:<br><br>\n",
    "\n",
    "- summary(res)\n",
    "- minimizer(res)\n",
    "- minimum(res)\n",
    "- iterations(res)\n",
    "- iteration_limit_reached(res)\n",
    "- trace(res)\n",
    "- x_trace(res)\n",
    "- f_trace(res)\n",
    "- f_calls(res)\n",
    "- converged(res)<br><br>\n",
    "\n",
    "Defined for univariate optimization:<br><br>\n",
    "\n",
    "- lower_bound(res)\n",
    "- upper_bound(res)\n",
    "- x_lower_trace(res)\n",
    "- x_upper_trace(res)\n",
    "- rel_tol(res)\n",
    "- abs_tol(res)<br><br>\n",
    "\n",
    "Defined for multivariate optimization:<br><br>\n",
    "\n",
    "- g_norm_trace(res)\n",
    "- g_calls(res)\n",
    "- x_converged(res)\n",
    "- f_converged(res)\n",
    "- g_converged(res)\n",
    "- initial_state(res)<br><br>\n",
    "\n",
    "# Solver Options<br><br>\n",
    "\n",
    "Requires only a function handle:<br><br>\n",
    "- NelderMead()\n",
    "- SimulatedAnnealing()<br><br>\n",
    "\n",
    "Requires a function and gradient (will be approximated if omitted):<br><br>\n",
    "- BFGS()\n",
    "- LBFGS()\n",
    "- ConjugateGradient()\n",
    "- GradientDescent()\n",
    "- MomentumGradientDescent()\n",
    "- AcceleratedGradientDescent()<br><br>\n",
    "\n",
    "Requires a function, a gradient, and a Hessian (cannot be omitted):<br><br>\n",
    "\n",
    "- Newton()\n",
    "- NewtonTrustRegion()<br><br>\n",
    "\n",
    "Box constrained minimization:<br><br>\n",
    "- Fminbox()<br><br>\n",
    "\n",
    "Special methods for bounded univariate optimization:<br><br>\n",
    "- Brent()\n",
    "- GoldenSection()"
   ]
  },
  {
   "cell_type": "markdown",
   "id": "cloudy-columbus",
   "metadata": {},
   "source": [
    "- Need to check for convergence. Optim.minimizer(result) will always give the result back even if the routine is not converged. \n",
    "\n",
    "- If initial_x is any type of stationary point, g_converged will be true. This includes local minima, saddle points, and local maxima. If iterations is 0 and g_converged is true, the user needs to keep this point in mind.\n",
    "- Preconditioner can increase the efficency of solver by changing the problem structure.\n",
    "- Choice of algo"
   ]
  },
  {
   "cell_type": "markdown",
   "id": "available-march",
   "metadata": {},
   "source": [
    "# Question"
   ]
  },
  {
   "cell_type": "markdown",
   "id": "deluxe-florist",
   "metadata": {},
   "source": [
    "- How does linesearch work in $\\mathbb{R}^d$"
   ]
  },
  {
   "cell_type": "markdown",
   "id": "transsexual-weather",
   "metadata": {},
   "source": [
    "# Tips and Tricks"
   ]
  },
  {
   "cell_type": "markdown",
   "id": "noble-mathematics",
   "metadata": {},
   "source": [
    "#### Dealing with constant parameters"
   ]
  },
  {
   "cell_type": "code",
   "execution_count": 77,
   "id": "preliminary-initial",
   "metadata": {
    "scrolled": true
   },
   "outputs": [
    {
     "data": {
      "text/plain": [
       "3-element Array{Float64,1}:\n",
       " 2.7\n",
       " 5.3\n",
       " 6.9"
      ]
     },
     "execution_count": 77,
     "metadata": {},
     "output_type": "execute_result"
    }
   ],
   "source": [
    "x = [1.0, 2.0, 3.0]\n",
    "y = 1.0 .+ 2.0 * x .+ [-0.3, 0.3, -0.1]"
   ]
  },
  {
   "cell_type": "code",
   "execution_count": 80,
   "id": "occupational-lodge",
   "metadata": {},
   "outputs": [
    {
     "data": {
      "text/plain": [
       "sqerror (generic function with 1 method)"
      ]
     },
     "execution_count": 80,
     "metadata": {},
     "output_type": "execute_result"
    }
   ],
   "source": [
    "# function depend on Three input param, beta, x, y. Variable is only beta\n",
    "function sqerror(betas, X, Y)\n",
    "    err = 0.0\n",
    "    for i in 1:length(X)\n",
    "        pred_i = betas[1] + betas[2] * X[i]\n",
    "        err += (Y[i] - pred_i)^2\n",
    "    end\n",
    "    return err\n",
    "end"
   ]
  },
  {
   "cell_type": "code",
   "execution_count": 81,
   "id": "excited-center",
   "metadata": {
    "scrolled": true
   },
   "outputs": [
    {
     "data": {
      "text/plain": [
       " * Status: success\n",
       "\n",
       " * Candidate solution\n",
       "    Final objective value:     1.666667e-01\n",
       "\n",
       " * Found with\n",
       "    Algorithm:     Nelder-Mead\n",
       "\n",
       " * Convergence measures\n",
       "    √(Σ(yᵢ-ȳ)²)/n ≤ 1.0e-08\n",
       "\n",
       " * Work counters\n",
       "    Seconds run:   0  (vs limit Inf)\n",
       "    Iterations:    46\n",
       "    f(x) calls:    92\n"
      ]
     },
     "execution_count": 81,
     "metadata": {},
     "output_type": "execute_result"
    }
   ],
   "source": [
    "res = optimize(b -> sqerror(b, x, y), [0.0, 0.0])"
   ]
  },
  {
   "cell_type": "code",
   "execution_count": 82,
   "id": "enormous-purpose",
   "metadata": {},
   "outputs": [
    {
     "data": {
      "text/plain": [
       "sqerror (generic function with 2 methods)"
      ]
     },
     "execution_count": 82,
     "metadata": {},
     "output_type": "execute_result"
    }
   ],
   "source": [
    "function sqerror(betas)\n",
    "    err = 0.0\n",
    "    for i in 1:length(x)\n",
    "        pred_i = betas[1] + betas[2] * x[i]\n",
    "        err += (y[i] - pred_i)^2\n",
    "    end\n",
    "    return err\n",
    "end"
   ]
  },
  {
   "cell_type": "code",
   "execution_count": 83,
   "id": "black-coating",
   "metadata": {
    "scrolled": true
   },
   "outputs": [
    {
     "data": {
      "text/plain": [
       " * Status: success\n",
       "\n",
       " * Candidate solution\n",
       "    Final objective value:     1.666667e-01\n",
       "\n",
       " * Found with\n",
       "    Algorithm:     Nelder-Mead\n",
       "\n",
       " * Convergence measures\n",
       "    √(Σ(yᵢ-ȳ)²)/n ≤ 1.0e-08\n",
       "\n",
       " * Work counters\n",
       "    Seconds run:   0  (vs limit Inf)\n",
       "    Iterations:    46\n",
       "    f(x) calls:    92\n"
      ]
     },
     "execution_count": 83,
     "metadata": {},
     "output_type": "execute_result"
    }
   ],
   "source": [
    "res = optimize(sqerror, [0.0, 0.0])"
   ]
  },
  {
   "cell_type": "markdown",
   "id": "dressed-thompson",
   "metadata": {},
   "source": [
    "#### Avoid repeating computations"
   ]
  },
  {
   "cell_type": "raw",
   "id": "velvet-rebound",
   "metadata": {},
   "source": [
    "function fg!(F,G,x)\n",
    "  # do common computations here\n",
    "  # ...\n",
    "  if G != nothing\n",
    "    # code to compute gradient here\n",
    "    # writing the result to the vector G\n",
    "  end\n",
    "  if F != nothing\n",
    "    # value = ... code to compute objective function\n",
    "    return value\n",
    "  end\n",
    "end"
   ]
  },
  {
   "cell_type": "raw",
   "id": "elect-prefix",
   "metadata": {},
   "source": [
    "Optim.optimize(Optim.only_fg!(fg!), [0., 0.], Optim.LBFGS())"
   ]
  },
  {
   "cell_type": "raw",
   "id": "endangered-tuning",
   "metadata": {},
   "source": [
    "function fgh!(F,G,H,x)\n",
    "  G == nothing || # compute gradient and store in G\n",
    "  H == nothing || # compute Hessian and store in H\n",
    "  F == nothing || return f(x)\n",
    "  nothing\n",
    "end\n",
    "\n",
    "Optim.optimize(Optim.only_fgh!(fgh!), [0., 0.], Optim.Newton())"
   ]
  },
  {
   "cell_type": "markdown",
   "id": "assisted-dispatch",
   "metadata": {},
   "source": [
    "#### Provide gradients\n",
    "User defined gradient result in usually faster computation, downside is that user need to calculate the grad or hessian"
   ]
  },
  {
   "cell_type": "markdown",
   "id": "cardiovascular-carol",
   "metadata": {},
   "source": [
    "#### Early stopping"
   ]
  },
  {
   "cell_type": "markdown",
   "id": "suffering-avatar",
   "metadata": {},
   "source": [
    "- set iteration to some Number, in Optim.options.\n",
    "- Use time_limit, in Optim.options."
   ]
  },
  {
   "cell_type": "markdown",
   "id": "temporal-spouse",
   "metadata": {},
   "source": [
    "#### Separating time spent in Optim's code and user provided functions"
   ]
  },
  {
   "cell_type": "code",
   "execution_count": 137,
   "id": "consecutive-ordinary",
   "metadata": {
    "scrolled": true
   },
   "outputs": [],
   "source": [
    "using OptimTestProblems\n",
    "using TimerOutputs"
   ]
  },
  {
   "cell_type": "code",
   "execution_count": 138,
   "id": "inclusive-reservoir",
   "metadata": {
    "scrolled": true
   },
   "outputs": [
    {
     "name": "stdout",
     "output_type": "stream",
     "text": [
      "\u001b[0m\u001b[1m ─────────────────────────────────────────────\u001b[22m\n",
      "\u001b[0m\u001b[1m                        \u001b[22m        Time          \n",
      "                        ──────────────────────\n",
      "    Tot / % measured:       74.1ms / 100%     \n",
      "\n",
      " Section        ncalls     time   %tot     avg\n",
      " ─────────────────────────────────────────────\n",
      " Trust Region        1   73.9ms   100%  73.9ms\n",
      "   g!               26    100μs  0.13%  3.84μs\n",
      "   h!               23   23.8μs  0.03%  1.03μs\n",
      "   f                26   12.8μs  0.02%   492ns\n",
      "\u001b[0m\u001b[1m ─────────────────────────────────────────────\u001b[22m"
     ]
    },
    {
     "name": "stderr",
     "output_type": "stream",
     "text": [
      "WARNING: redefinition of constant to. This may fail, cause incorrect answers, or produce other errors.\n"
     ]
    }
   ],
   "source": [
    "prob = UnconstrainedProblems.examples[\"Rosenbrock\"];\n",
    "const to = TimerOutput()\n",
    "f(x    ) =  @timeit to \"f\"  prob.f(x)\n",
    "g!(x, g) =  @timeit to \"g!\" prob.g!(x, g)\n",
    "h!(x, h) =  @timeit to \"h!\" prob.h!(x, h)\n",
    "\n",
    "begin\n",
    "reset_timer!(to)\n",
    "@timeit to \"Trust Region\" begin\n",
    "    res = Optim.optimize(f, g!, h!, prob.initial_x, NewtonTrustRegion())\n",
    "end\n",
    "show(to; allocations = false)\n",
    "end"
   ]
  },
  {
   "cell_type": "code",
   "execution_count": null,
   "id": "purple-disposal",
   "metadata": {},
   "outputs": [],
   "source": []
  },
  {
   "cell_type": "markdown",
   "id": "white-father",
   "metadata": {},
   "source": [
    "# MLE"
   ]
  },
  {
   "cell_type": "code",
   "execution_count": 94,
   "id": "ranging-background",
   "metadata": {},
   "outputs": [],
   "source": [
    "using Optim, NLSolversBase, Random\n",
    "using LinearAlgebra: diag"
   ]
  },
  {
   "cell_type": "code",
   "execution_count": 95,
   "id": "wrong-mortgage",
   "metadata": {},
   "outputs": [],
   "source": [
    "# This example is generated using Literate.jl, https://urldefense.com/v3/__https://github.com/fredrikekre/Literate.jl*5Cn__;JQ!!PhOWcWs!neExbL77rR3MSZ42uvUivvkX3UAeJketdelxLl8XtcIXFOQXcR1pmfTp-mek2fnwdQ$ ",
    "Random.seed!(0);                    # Fix random seed generator for reproducibility\n",
    "\n",
    "n = 500                             # Number of observations\n",
    "nvar = 2                            # Number of variables\n",
    "β = ones(nvar) * 3.0                # True coefficients\n",
    "x = [ones(n) randn(n, nvar - 1)]    # X matrix of explanatory variables plus constant\n",
    "ε = randn(n) * 0.5                  # Error variance\n",
    "y = x * β + ε;                      # Generate Data\n"
   ]
  },
  {
   "cell_type": "code",
   "execution_count": 97,
   "id": "emotional-delta",
   "metadata": {},
   "outputs": [
    {
     "data": {
      "text/plain": [
       "Log_Likelihood (generic function with 1 method)"
      ]
     },
     "execution_count": 97,
     "metadata": {},
     "output_type": "execute_result"
    }
   ],
   "source": [
    "function Log_Likelihood(X, Y, β, log_σ)\n",
    "    σ = exp(log_σ)\n",
    "    llike = -n/2*log(2π) - n/2* log(σ^2) - (sum((Y - X * β).^2) / (2σ^2))\n",
    "    llike = -llike\n",
    "end"
   ]
  },
  {
   "cell_type": "code",
   "execution_count": 98,
   "id": "polyphonic-latin",
   "metadata": {
    "scrolled": true
   },
   "outputs": [
    {
     "data": {
      "text/plain": [
       "3-element Array{Float64,1}:\n",
       "  2.9747439919763994\n",
       "  2.9909709732197314\n",
       " -0.6758096216503663"
      ]
     },
     "execution_count": 98,
     "metadata": {},
     "output_type": "execute_result"
    }
   ],
   "source": [
    "func = TwiceDifferentiable(vars -> Log_Likelihood(x, y, vars[1:nvar], vars[nvar + 1]),\n",
    "                           ones(nvar+1); autodiff=:forward);\n",
    "\n",
    "opt = optimize(func, ones(nvar+1))\n",
    "\n",
    "parameters = Optim.minimizer(opt)"
   ]
  },
  {
   "cell_type": "code",
   "execution_count": 99,
   "id": "responsible-cameroon",
   "metadata": {},
   "outputs": [
    {
     "data": {
      "text/plain": [
       "3×3 Array{Float64,2}:\n",
       " 0.00556454    0.000409816   4.25112e-18\n",
       " 0.000409816   0.00523875   -1.96228e-18\n",
       " 4.25112e-18  -1.96228e-18   0.0106879"
      ]
     },
     "execution_count": 99,
     "metadata": {},
     "output_type": "execute_result"
    }
   ],
   "source": [
    "parameters[nvar+1] = exp(parameters[nvar+1])\n",
    "\n",
    "numerical_hessian = hessian!(func,parameters)\n",
    "\n",
    "var_cov_matrix = inv(numerical_hessian)"
   ]
  },
  {
   "cell_type": "code",
   "execution_count": 100,
   "id": "located-saying",
   "metadata": {
    "scrolled": true
   },
   "outputs": [
    {
     "data": {
      "text/plain": [
       "2-element Array{Float64,1}:\n",
       " 39.878154917706034\n",
       " 41.32361342285349"
      ]
     },
     "execution_count": 100,
     "metadata": {},
     "output_type": "execute_result"
    }
   ],
   "source": [
    "β = parameters[1:nvar]\n",
    "temp = diag(var_cov_matrix)\n",
    "temp1 = temp[1:nvar]\n",
    "t_stats = β./sqrt.(temp1)"
   ]
  },
  {
   "cell_type": "markdown",
   "id": "answering-hobby",
   "metadata": {},
   "source": [
    "# Reference"
   ]
  },
  {
   "cell_type": "markdown",
   "id": "included-cycling",
   "metadata": {},
   "source": [
    "https://urldefense.com/v3/__http://julianlsolvers.github.io/Optim.jl/stable/*user/minimization/__;Iw!!PhOWcWs!neExbL77rR3MSZ42uvUivvkX3UAeJketdelxLl8XtcIXFOQXcR1pmfTp-meXgrKqrw$ "
   ]
  }
 ],
 "metadata": {
  "kernelspec": {
   "display_name": "Julia 1.5.3",
   "language": "julia",
   "name": "julia-1.5"
  },
  "language_info": {
   "file_extension": ".jl",
   "mimetype": "application/julia",
   "name": "julia",
   "version": "1.5.3"
  }
 },
 "nbformat": 4,
 "nbformat_minor": 5
}
